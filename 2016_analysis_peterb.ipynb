{
 "cells": [
  {
   "cell_type": "code",
   "execution_count": 3,
   "metadata": {},
   "outputs": [],
   "source": [
    "#first jupyter notebook for analysis\n"
   ]
  },
  {
   "cell_type": "code",
   "execution_count": 4,
   "metadata": {},
   "outputs": [
    {
     "data": {
      "text/html": [
       "<div>\n",
       "<style scoped>\n",
       "    .dataframe tbody tr th:only-of-type {\n",
       "        vertical-align: middle;\n",
       "    }\n",
       "\n",
       "    .dataframe tbody tr th {\n",
       "        vertical-align: top;\n",
       "    }\n",
       "\n",
       "    .dataframe thead th {\n",
       "        text-align: right;\n",
       "    }\n",
       "</style>\n",
       "<table border=\"1\" class=\"dataframe\">\n",
       "  <thead>\n",
       "    <tr style=\"text-align: right;\">\n",
       "      <th></th>\n",
       "      <th>Are you self-employed?</th>\n",
       "      <th>How many employees does your company or organization have?</th>\n",
       "      <th>Is your employer primarily a tech company/organization?</th>\n",
       "      <th>Is your primary role within your company related to tech/IT?</th>\n",
       "      <th>Does your employer provide mental health benefits as part of healthcare coverage?</th>\n",
       "      <th>Do you know the options for mental health care available under your employer-provided coverage?</th>\n",
       "      <th>Has your employer ever formally discussed mental health (for example, as part of a wellness campaign or other official communication)?</th>\n",
       "      <th>Does your employer offer resources to learn more about mental health concerns and options for seeking help?</th>\n",
       "      <th>Is your anonymity protected if you choose to take advantage of mental health or substance abuse treatment resources provided by your employer?</th>\n",
       "      <th>If a mental health issue prompted you to request a medical leave from work, asking for that leave would be:</th>\n",
       "      <th>...</th>\n",
       "      <th>If you have a mental health issue, do you feel that it interferes with your work when being treated effectively?</th>\n",
       "      <th>If you have a mental health issue, do you feel that it interferes with your work when NOT being treated effectively?</th>\n",
       "      <th>What is your age?</th>\n",
       "      <th>What is your gender?</th>\n",
       "      <th>What country do you live in?</th>\n",
       "      <th>What US state or territory do you live in?</th>\n",
       "      <th>What country do you work in?</th>\n",
       "      <th>What US state or territory do you work in?</th>\n",
       "      <th>Which of the following best describes your work position?</th>\n",
       "      <th>Do you work remotely?</th>\n",
       "    </tr>\n",
       "  </thead>\n",
       "  <tbody>\n",
       "    <tr>\n",
       "      <th>0</th>\n",
       "      <td>0</td>\n",
       "      <td>26-100</td>\n",
       "      <td>1.0</td>\n",
       "      <td>NaN</td>\n",
       "      <td>Not eligible for coverage / N/A</td>\n",
       "      <td>NaN</td>\n",
       "      <td>No</td>\n",
       "      <td>No</td>\n",
       "      <td>I don't know</td>\n",
       "      <td>Very easy</td>\n",
       "      <td>...</td>\n",
       "      <td>Not applicable to me</td>\n",
       "      <td>Not applicable to me</td>\n",
       "      <td>39</td>\n",
       "      <td>Male</td>\n",
       "      <td>United Kingdom</td>\n",
       "      <td>NaN</td>\n",
       "      <td>United Kingdom</td>\n",
       "      <td>NaN</td>\n",
       "      <td>Back-end Developer</td>\n",
       "      <td>Sometimes</td>\n",
       "    </tr>\n",
       "    <tr>\n",
       "      <th>1</th>\n",
       "      <td>0</td>\n",
       "      <td>6-25</td>\n",
       "      <td>1.0</td>\n",
       "      <td>NaN</td>\n",
       "      <td>No</td>\n",
       "      <td>Yes</td>\n",
       "      <td>Yes</td>\n",
       "      <td>Yes</td>\n",
       "      <td>Yes</td>\n",
       "      <td>Somewhat easy</td>\n",
       "      <td>...</td>\n",
       "      <td>Rarely</td>\n",
       "      <td>Sometimes</td>\n",
       "      <td>29</td>\n",
       "      <td>male</td>\n",
       "      <td>United States of America</td>\n",
       "      <td>Illinois</td>\n",
       "      <td>United States of America</td>\n",
       "      <td>Illinois</td>\n",
       "      <td>Back-end Developer|Front-end Developer</td>\n",
       "      <td>Never</td>\n",
       "    </tr>\n",
       "    <tr>\n",
       "      <th>2</th>\n",
       "      <td>0</td>\n",
       "      <td>6-25</td>\n",
       "      <td>1.0</td>\n",
       "      <td>NaN</td>\n",
       "      <td>No</td>\n",
       "      <td>NaN</td>\n",
       "      <td>No</td>\n",
       "      <td>No</td>\n",
       "      <td>I don't know</td>\n",
       "      <td>Neither easy nor difficult</td>\n",
       "      <td>...</td>\n",
       "      <td>Not applicable to me</td>\n",
       "      <td>Not applicable to me</td>\n",
       "      <td>38</td>\n",
       "      <td>Male</td>\n",
       "      <td>United Kingdom</td>\n",
       "      <td>NaN</td>\n",
       "      <td>United Kingdom</td>\n",
       "      <td>NaN</td>\n",
       "      <td>Back-end Developer</td>\n",
       "      <td>Always</td>\n",
       "    </tr>\n",
       "    <tr>\n",
       "      <th>3</th>\n",
       "      <td>1</td>\n",
       "      <td>NaN</td>\n",
       "      <td>NaN</td>\n",
       "      <td>NaN</td>\n",
       "      <td>NaN</td>\n",
       "      <td>NaN</td>\n",
       "      <td>NaN</td>\n",
       "      <td>NaN</td>\n",
       "      <td>NaN</td>\n",
       "      <td>NaN</td>\n",
       "      <td>...</td>\n",
       "      <td>Sometimes</td>\n",
       "      <td>Sometimes</td>\n",
       "      <td>43</td>\n",
       "      <td>male</td>\n",
       "      <td>United Kingdom</td>\n",
       "      <td>NaN</td>\n",
       "      <td>United Kingdom</td>\n",
       "      <td>NaN</td>\n",
       "      <td>Supervisor/Team Lead</td>\n",
       "      <td>Sometimes</td>\n",
       "    </tr>\n",
       "    <tr>\n",
       "      <th>4</th>\n",
       "      <td>0</td>\n",
       "      <td>6-25</td>\n",
       "      <td>0.0</td>\n",
       "      <td>1.0</td>\n",
       "      <td>Yes</td>\n",
       "      <td>Yes</td>\n",
       "      <td>No</td>\n",
       "      <td>No</td>\n",
       "      <td>No</td>\n",
       "      <td>Neither easy nor difficult</td>\n",
       "      <td>...</td>\n",
       "      <td>Sometimes</td>\n",
       "      <td>Sometimes</td>\n",
       "      <td>43</td>\n",
       "      <td>Female</td>\n",
       "      <td>United States of America</td>\n",
       "      <td>Illinois</td>\n",
       "      <td>United States of America</td>\n",
       "      <td>Illinois</td>\n",
       "      <td>Executive Leadership|Supervisor/Team Lead|Dev ...</td>\n",
       "      <td>Sometimes</td>\n",
       "    </tr>\n",
       "  </tbody>\n",
       "</table>\n",
       "<p>5 rows × 63 columns</p>\n",
       "</div>"
      ],
      "text/plain": [
       "   Are you self-employed?  \\\n",
       "0                       0   \n",
       "1                       0   \n",
       "2                       0   \n",
       "3                       1   \n",
       "4                       0   \n",
       "\n",
       "  How many employees does your company or organization have?  \\\n",
       "0                                             26-100           \n",
       "1                                               6-25           \n",
       "2                                               6-25           \n",
       "3                                                NaN           \n",
       "4                                               6-25           \n",
       "\n",
       "   Is your employer primarily a tech company/organization?  \\\n",
       "0                                                1.0         \n",
       "1                                                1.0         \n",
       "2                                                1.0         \n",
       "3                                                NaN         \n",
       "4                                                0.0         \n",
       "\n",
       "   Is your primary role within your company related to tech/IT?  \\\n",
       "0                                                NaN              \n",
       "1                                                NaN              \n",
       "2                                                NaN              \n",
       "3                                                NaN              \n",
       "4                                                1.0              \n",
       "\n",
       "  Does your employer provide mental health benefits as part of healthcare coverage?  \\\n",
       "0                    Not eligible for coverage / N/A                                  \n",
       "1                                                 No                                  \n",
       "2                                                 No                                  \n",
       "3                                                NaN                                  \n",
       "4                                                Yes                                  \n",
       "\n",
       "  Do you know the options for mental health care available under your employer-provided coverage?  \\\n",
       "0                                                NaN                                                \n",
       "1                                                Yes                                                \n",
       "2                                                NaN                                                \n",
       "3                                                NaN                                                \n",
       "4                                                Yes                                                \n",
       "\n",
       "  Has your employer ever formally discussed mental health (for example, as part of a wellness campaign or other official communication)?  \\\n",
       "0                                                 No                                                                                       \n",
       "1                                                Yes                                                                                       \n",
       "2                                                 No                                                                                       \n",
       "3                                                NaN                                                                                       \n",
       "4                                                 No                                                                                       \n",
       "\n",
       "  Does your employer offer resources to learn more about mental health concerns and options for seeking help?  \\\n",
       "0                                                 No                                                            \n",
       "1                                                Yes                                                            \n",
       "2                                                 No                                                            \n",
       "3                                                NaN                                                            \n",
       "4                                                 No                                                            \n",
       "\n",
       "  Is your anonymity protected if you choose to take advantage of mental health or substance abuse treatment resources provided by your employer?  \\\n",
       "0                                       I don't know                                                                                               \n",
       "1                                                Yes                                                                                               \n",
       "2                                       I don't know                                                                                               \n",
       "3                                                NaN                                                                                               \n",
       "4                                                 No                                                                                               \n",
       "\n",
       "  If a mental health issue prompted you to request a medical leave from work, asking for that leave would be:  \\\n",
       "0                                          Very easy                                                            \n",
       "1                                      Somewhat easy                                                            \n",
       "2                         Neither easy nor difficult                                                            \n",
       "3                                                NaN                                                            \n",
       "4                         Neither easy nor difficult                                                            \n",
       "\n",
       "   ...  \\\n",
       "0  ...   \n",
       "1  ...   \n",
       "2  ...   \n",
       "3  ...   \n",
       "4  ...   \n",
       "\n",
       "  If you have a mental health issue, do you feel that it interferes with your work when being treated effectively?  \\\n",
       "0                               Not applicable to me                                                                 \n",
       "1                                             Rarely                                                                 \n",
       "2                               Not applicable to me                                                                 \n",
       "3                                          Sometimes                                                                 \n",
       "4                                          Sometimes                                                                 \n",
       "\n",
       "  If you have a mental health issue, do you feel that it interferes with your work when NOT being treated effectively?  \\\n",
       "0                               Not applicable to me                                                                     \n",
       "1                                          Sometimes                                                                     \n",
       "2                               Not applicable to me                                                                     \n",
       "3                                          Sometimes                                                                     \n",
       "4                                          Sometimes                                                                     \n",
       "\n",
       "  What is your age? What is your gender? What country do you live in?  \\\n",
       "0                39                 Male               United Kingdom   \n",
       "1                29                 male     United States of America   \n",
       "2                38                Male                United Kingdom   \n",
       "3                43                 male               United Kingdom   \n",
       "4                43               Female     United States of America   \n",
       "\n",
       "  What US state or territory do you live in?  What country do you work in?  \\\n",
       "0                                        NaN                United Kingdom   \n",
       "1                                   Illinois      United States of America   \n",
       "2                                        NaN                United Kingdom   \n",
       "3                                        NaN                United Kingdom   \n",
       "4                                   Illinois      United States of America   \n",
       "\n",
       "  What US state or territory do you work in?  \\\n",
       "0                                        NaN   \n",
       "1                                   Illinois   \n",
       "2                                        NaN   \n",
       "3                                        NaN   \n",
       "4                                   Illinois   \n",
       "\n",
       "  Which of the following best describes your work position?  \\\n",
       "0                                 Back-end Developer          \n",
       "1             Back-end Developer|Front-end Developer          \n",
       "2                                 Back-end Developer          \n",
       "3                               Supervisor/Team Lead          \n",
       "4  Executive Leadership|Supervisor/Team Lead|Dev ...          \n",
       "\n",
       "  Do you work remotely?  \n",
       "0             Sometimes  \n",
       "1                 Never  \n",
       "2                Always  \n",
       "3             Sometimes  \n",
       "4             Sometimes  \n",
       "\n",
       "[5 rows x 63 columns]"
      ]
     },
     "execution_count": 4,
     "metadata": {},
     "output_type": "execute_result"
    }
   ],
   "source": [
    "\n",
    "import os\n",
    "\n",
    "import pandas as pd\n",
    "df_2016 = pd.read_csv('OSMI_2016.csv')\n",
    "df_2016.head()"
   ]
  },
  {
   "cell_type": "code",
   "execution_count": 5,
   "metadata": {},
   "outputs": [
    {
     "name": "stdout",
     "output_type": "stream",
     "text": [
      "Index(['Are you self-employed?',\n",
      "       'How many employees does your company or organization have?',\n",
      "       'Is your employer primarily a tech company/organization?',\n",
      "       'Is your primary role within your company related to tech/IT?',\n",
      "       'Does your employer provide mental health benefits as part of healthcare coverage?',\n",
      "       'Do you know the options for mental health care available under your employer-provided coverage?',\n",
      "       'Has your employer ever formally discussed mental health (for example, as part of a wellness campaign or other official communication)?',\n",
      "       'Does your employer offer resources to learn more about mental health concerns and options for seeking help?',\n",
      "       'Is your anonymity protected if you choose to take advantage of mental health or substance abuse treatment resources provided by your employer?',\n",
      "       'If a mental health issue prompted you to request a medical leave from work, asking for that leave would be:',\n",
      "       'Do you think that discussing a mental health disorder with your employer would have negative consequences?',\n",
      "       'Do you think that discussing a physical health issue with your employer would have negative consequences?',\n",
      "       'Would you feel comfortable discussing a mental health disorder with your coworkers?',\n",
      "       'Would you feel comfortable discussing a mental health disorder with your direct supervisor(s)?',\n",
      "       'Do you feel that your employer takes mental health as seriously as physical health?',\n",
      "       'Have you heard of or observed negative consequences for co-workers who have been open about mental health issues in your workplace?',\n",
      "       'Do you have medical coverage (private insurance or state-provided) which includes treatment of  mental health issues?',\n",
      "       'Do you know local or online resources to seek help for a mental health disorder?',\n",
      "       'If you have been diagnosed or treated for a mental health disorder, do you ever reveal this to clients or business contacts?',\n",
      "       'If you have revealed a mental health issue to a client or business contact, do you believe this has impacted you negatively?',\n",
      "       'If you have been diagnosed or treated for a mental health disorder, do you ever reveal this to coworkers or employees?',\n",
      "       'If you have revealed a mental health issue to a coworker or employee, do you believe this has impacted you negatively?',\n",
      "       'Do you believe your productivity is ever affected by a mental health issue?',\n",
      "       'If yes, what percentage of your work time (time performing primary or secondary job functions) is affected by a mental health issue?',\n",
      "       'Do you have previous employers?',\n",
      "       'Have your previous employers provided mental health benefits?',\n",
      "       'Were you aware of the options for mental health care provided by your previous employers?',\n",
      "       'Did your previous employers ever formally discuss mental health (as part of a wellness campaign or other official communication)?',\n",
      "       'Did your previous employers provide resources to learn more about mental health issues and how to seek help?',\n",
      "       'Was your anonymity protected if you chose to take advantage of mental health or substance abuse treatment resources with previous employers?',\n",
      "       'Do you think that discussing a mental health disorder with previous employers would have negative consequences?',\n",
      "       'Do you think that discussing a physical health issue with previous employers would have negative consequences?',\n",
      "       'Would you have been willing to discuss a mental health issue with your previous co-workers?',\n",
      "       'Would you have been willing to discuss a mental health issue with your direct supervisor(s)?',\n",
      "       'Did you feel that your previous employers took mental health as seriously as physical health?',\n",
      "       'Did you hear of or observe negative consequences for co-workers with mental health issues in your previous workplaces?',\n",
      "       'Would you be willing to bring up a physical health issue with a potential employer in an interview?',\n",
      "       'Why or why not?',\n",
      "       'Would you bring up a mental health issue with a potential employer in an interview?',\n",
      "       'Why or why not?.1',\n",
      "       'Do you feel that being identified as a person with a mental health issue would hurt your career?',\n",
      "       'Do you think that team members/co-workers would view you more negatively if they knew you suffered from a mental health issue?',\n",
      "       'How willing would you be to share with friends and family that you have a mental illness?',\n",
      "       'Have you observed or experienced an unsupportive or badly handled response to a mental health issue in your current or previous workplace?',\n",
      "       'Have your observations of how another individual who discussed a mental health disorder made you less likely to reveal a mental health issue yourself in your current workplace?',\n",
      "       'Do you have a family history of mental illness?',\n",
      "       'Have you had a mental health disorder in the past?',\n",
      "       'Do you currently have a mental health disorder?',\n",
      "       'If yes, what condition(s) have you been diagnosed with?',\n",
      "       'If maybe, what condition(s) do you believe you have?',\n",
      "       'Have you been diagnosed with a mental health condition by a medical professional?',\n",
      "       'If so, what condition(s) were you diagnosed with?',\n",
      "       'Have you ever sought treatment for a mental health issue from a mental health professional?',\n",
      "       'If you have a mental health issue, do you feel that it interferes with your work when being treated effectively?',\n",
      "       'If you have a mental health issue, do you feel that it interferes with your work when NOT being treated effectively?',\n",
      "       'What is your age?', 'What is your gender?',\n",
      "       'What country do you live in?',\n",
      "       'What US state or territory do you live in?',\n",
      "       'What country do you work in?',\n",
      "       'What US state or territory do you work in?',\n",
      "       'Which of the following best describes your work position?',\n",
      "       'Do you work remotely?'],\n",
      "      dtype='object')\n"
     ]
    }
   ],
   "source": [
    "pd.set_option('display.max_rows', None)\n",
    "\n",
    "print(df_2016.columns) \n",
    "\n",
    "    "
   ]
  },
  {
   "cell_type": "code",
   "execution_count": 6,
   "metadata": {},
   "outputs": [
    {
     "name": "stdout",
     "output_type": "stream",
     "text": [
      "How many employees does your company or organization have?\n",
      "['26-100' '6-25' nan 'More than 1000' '100-500' '500-1000' '1-5']\n",
      "[3. 2. 0. 6. 4. 5. 1.]\n"
     ]
    }
   ],
   "source": [
    "# categorizing variables\n",
    "\n",
    "# employees in a company\n",
    "\n",
    "index = 1\n",
    "\n",
    "columnname = df_2016.columns[index]\n",
    "\n",
    "print(df_2016.columns[index])\n",
    "print(df_2016.iloc[:,index].unique())\n",
    "\n",
    "mapping_1 = {'1-5': 1,'6-25': 2,'26-100': 3, '100-500': 4,'500-1000': 5, 'More than 1000': 6}\n",
    "\n",
    "df_2016 = df_2016.replace({columnname: mapping_1})\n",
    "df_2016[columnname] =df_2016[columnname].fillna(0)\n",
    "\n",
    "print(df_2016.iloc[:,index].unique())\n",
    "\n",
    "\n"
   ]
  },
  {
   "cell_type": "code",
   "execution_count": 7,
   "metadata": {},
   "outputs": [
    {
     "name": "stdout",
     "output_type": "stream",
     "text": [
      "Does your employer provide mental health benefits as part of healthcare coverage?\n",
      "['Not eligible for coverage / N/A' 'No' nan 'Yes' \"I don't know\"]\n",
      "[4. 1. 0. 2. 3.]\n"
     ]
    }
   ],
   "source": [
    "# employer health benefits in a company\n",
    "\n",
    "index = 4\n",
    "\n",
    "columnname = df_2016.columns[index]\n",
    "\n",
    "print(df_2016.columns[index])\n",
    "print(df_2016.iloc[:,index].unique())\n",
    "\n",
    "mapping_1 = {'No': 1,'Yes': 2,\"I don't know\": 3, 'Not eligible for coverage / N/A': 4}\n",
    "\n",
    "df_2016 = df_2016.replace({columnname: mapping_1})\n",
    "df_2016[columnname] =df_2016[columnname].fillna(0)\n",
    "\n",
    "print(df_2016.iloc[:,index].unique())\n"
   ]
  },
  {
   "cell_type": "code",
   "execution_count": 8,
   "metadata": {},
   "outputs": [
    {
     "name": "stdout",
     "output_type": "stream",
     "text": [
      "Do you know the options for mental health care available under your employer-provided coverage?\n",
      "[nan 'Yes' 'I am not sure' 'No']\n",
      "[0. 2. 3. 1.]\n"
     ]
    }
   ],
   "source": [
    "# mental health care coverage\n",
    "\n",
    "index = 5\n",
    "\n",
    "columnname = df_2016.columns[index]\n",
    "\n",
    "print(df_2016.columns[index])\n",
    "print(df_2016.iloc[:,index].unique())\n",
    "\n",
    "mapping_1 = {'No': 1,'Yes': 2,\"I am not sure\": 3}\n",
    "\n",
    "df_2016 = df_2016.replace({columnname: mapping_1})\n",
    "df_2016[columnname] =df_2016[columnname].fillna(0)\n",
    "\n",
    "print(df_2016.iloc[:,index].unique())\n",
    "\n"
   ]
  },
  {
   "cell_type": "code",
   "execution_count": 9,
   "metadata": {},
   "outputs": [
    {
     "name": "stdout",
     "output_type": "stream",
     "text": [
      "Has your employer ever formally discussed mental health (for example, as part of a wellness campaign or other official communication)?\n",
      "['No' 'Yes' nan \"I don't know\"]\n",
      "[1. 2. 0. 3.]\n"
     ]
    }
   ],
   "source": [
    "# employer formally discussed mental health\n",
    "\n",
    "index = 6\n",
    "\n",
    "columnname = df_2016.columns[index]\n",
    "\n",
    "print(df_2016.columns[index])\n",
    "print(df_2016.iloc[:,index].unique())\n",
    "\n",
    "mapping_1 = {'No': 1,'Yes': 2,\"I don't know\": 3}\n",
    "\n",
    "df_2016 = df_2016.replace({columnname: mapping_1})\n",
    "df_2016[columnname] =df_2016[columnname].fillna(0)\n",
    "\n",
    "print(df_2016.iloc[:,index].unique())\n"
   ]
  },
  {
   "cell_type": "code",
   "execution_count": 10,
   "metadata": {},
   "outputs": [
    {
     "name": "stdout",
     "output_type": "stream",
     "text": [
      "Does your employer offer resources to learn more about mental health concerns and options for seeking help?\n",
      "['No' 'Yes' nan \"I don't know\"]\n",
      "[1. 2. 0. 3.]\n"
     ]
    }
   ],
   "source": [
    "# employer offer resources to learn about mental health\n",
    "\n",
    "index = 7\n",
    "\n",
    "columnname = df_2016.columns[index]\n",
    "\n",
    "print(df_2016.columns[index])\n",
    "print(df_2016.iloc[:,index].unique())\n",
    "\n",
    "mapping_1 = {'No': 1,'Yes': 2,\"I don't know\": 3}\n",
    "\n",
    "df_2016 = df_2016.replace({columnname: mapping_1})\n",
    "df_2016[columnname] =df_2016[columnname].fillna(0)\n",
    "\n",
    "print(df_2016.iloc[:,index].unique())"
   ]
  },
  {
   "cell_type": "code",
   "execution_count": 11,
   "metadata": {},
   "outputs": [
    {
     "name": "stdout",
     "output_type": "stream",
     "text": [
      "Is your anonymity protected if you choose to take advantage of mental health or substance abuse treatment resources provided by your employer?\n",
      "[\"I don't know\" 'Yes' nan 'No']\n",
      "[3. 2. 0. 1.]\n"
     ]
    }
   ],
   "source": [
    "# anonymity protected\n",
    "\n",
    "index = 8\n",
    "\n",
    "columnname = df_2016.columns[index]\n",
    "\n",
    "print(df_2016.columns[index])\n",
    "print(df_2016.iloc[:,index].unique())\n",
    "\n",
    "mapping_1 = {'No': 1,'Yes': 2,\"I don't know\": 3}\n",
    "\n",
    "df_2016 = df_2016.replace({columnname: mapping_1})\n",
    "df_2016[columnname] =df_2016[columnname].fillna(0)\n",
    "\n",
    "print(df_2016.iloc[:,index].unique())"
   ]
  },
  {
   "cell_type": "code",
   "execution_count": 12,
   "metadata": {},
   "outputs": [
    {
     "name": "stdout",
     "output_type": "stream",
     "text": [
      "If a mental health issue prompted you to request a medical leave from work, asking for that leave would be:\n",
      "['Very easy' 'Somewhat easy' 'Neither easy nor difficult' nan\n",
      " 'Very difficult' 'Somewhat difficult' \"I don't know\"]\n",
      "[1. 2. 3. 0. 5. 4. 6.]\n"
     ]
    }
   ],
   "source": [
    "# leave due to mental health\n",
    "\n",
    "index = 9\n",
    "\n",
    "columnname = df_2016.columns[index]\n",
    "\n",
    "print(df_2016.columns[index])\n",
    "print(df_2016.iloc[:,index].unique())\n",
    "\n",
    "mapping_1 = {'Very easy': 1,'Somewhat easy': 2, 'Neither easy nor difficult':3, 'Somewhat difficult':4, 'Very difficult':5, \"I don't know\": 6}\n",
    "\n",
    "df_2016 = df_2016.replace({columnname: mapping_1})\n",
    "df_2016[columnname] =df_2016[columnname].fillna(0)\n",
    "\n",
    "print(df_2016.iloc[:,index].unique())"
   ]
  },
  {
   "cell_type": "code",
   "execution_count": 13,
   "metadata": {},
   "outputs": [
    {
     "name": "stdout",
     "output_type": "stream",
     "text": [
      "Do you think that discussing a mental health disorder with your employer would have negative consequences?\n",
      "['No' 'Maybe' nan 'Yes']\n",
      "[1. 3. 0. 2.]\n"
     ]
    }
   ],
   "source": [
    "# discussing mental health with employeer negative consequences\n",
    "\n",
    "index = 10\n",
    "\n",
    "columnname = df_2016.columns[index]\n",
    "\n",
    "print(df_2016.columns[index])\n",
    "print(df_2016.iloc[:,index].unique())\n",
    "\n",
    "mapping_1 = {'No': 1 , 'Yes': 2 , 'Maybe':3}\n",
    "\n",
    "df_2016 = df_2016.replace({columnname: mapping_1})\n",
    "df_2016[columnname] =df_2016[columnname].fillna(0)\n",
    "\n",
    "print(df_2016.iloc[:,index].unique())"
   ]
  },
  {
   "cell_type": "code",
   "execution_count": 14,
   "metadata": {},
   "outputs": [
    {
     "name": "stdout",
     "output_type": "stream",
     "text": [
      "Do you think that discussing a physical health issue with your employer would have negative consequences?\n",
      "['No' nan 'Maybe' 'Yes']\n",
      "[1. 0. 3. 2.]\n"
     ]
    }
   ],
   "source": [
    "# discussing physical health with employeer negative consequences\n",
    "\n",
    "index = 11\n",
    "\n",
    "columnname = df_2016.columns[index]\n",
    "\n",
    "print(df_2016.columns[index])\n",
    "print(df_2016.iloc[:,index].unique())\n",
    "\n",
    "mapping_1 = {'No': 1 , 'Yes': 2 , 'Maybe':3}\n",
    "\n",
    "df_2016 = df_2016.replace({columnname: mapping_1})\n",
    "df_2016[columnname] =df_2016[columnname].fillna(0)\n",
    "\n",
    "print(df_2016.iloc[:,index].unique())"
   ]
  },
  {
   "cell_type": "code",
   "execution_count": 15,
   "metadata": {},
   "outputs": [
    {
     "name": "stdout",
     "output_type": "stream",
     "text": [
      "Would you feel comfortable discussing a mental health disorder with your coworkers?\n",
      "['Maybe' nan 'Yes' 'No']\n",
      "[3. 0. 2. 1.]\n"
     ]
    }
   ],
   "source": [
    "# discussing mental health with coworker\n",
    "\n",
    "index = 12\n",
    "\n",
    "columnname = df_2016.columns[index]\n",
    "\n",
    "print(df_2016.columns[index])\n",
    "print(df_2016.iloc[:,index].unique())\n",
    "\n",
    "mapping_1 = {'No': 1 , 'Yes': 2 , 'Maybe':3}\n",
    "\n",
    "df_2016 = df_2016.replace({columnname: mapping_1})\n",
    "df_2016[columnname] =df_2016[columnname].fillna(0)\n",
    "\n",
    "print(df_2016.iloc[:,index].unique())"
   ]
  },
  {
   "cell_type": "code",
   "execution_count": 16,
   "metadata": {},
   "outputs": [
    {
     "name": "stdout",
     "output_type": "stream",
     "text": [
      "Would you feel comfortable discussing a mental health disorder with your direct supervisor(s)?\n",
      "['Yes' 'Maybe' nan 'No']\n",
      "[2. 3. 0. 1.]\n"
     ]
    }
   ],
   "source": [
    "# discussing mental health with direct supervisor\n",
    "\n",
    "index = 13\n",
    "\n",
    "columnname = df_2016.columns[index]\n",
    "\n",
    "print(df_2016.columns[index])\n",
    "print(df_2016.iloc[:,index].unique())\n",
    "\n",
    "mapping_1 = {'No': 1 , 'Yes': 2 , 'Maybe':3}\n",
    "\n",
    "df_2016 = df_2016.replace({columnname: mapping_1})\n",
    "df_2016[columnname] =df_2016[columnname].fillna(0)\n",
    "\n",
    "print(df_2016.iloc[:,index].unique())"
   ]
  },
  {
   "cell_type": "code",
   "execution_count": 17,
   "metadata": {},
   "outputs": [
    {
     "name": "stdout",
     "output_type": "stream",
     "text": [
      "Do you feel that your employer takes mental health as seriously as physical health?\n",
      "[\"I don't know\" 'Yes' nan 'No']\n",
      "[3. 2. 0. 1.]\n"
     ]
    }
   ],
   "source": [
    "# employer takes mental health as seriously as physical health\n",
    "\n",
    "index = 14\n",
    "\n",
    "columnname = df_2016.columns[index]\n",
    "\n",
    "print(df_2016.columns[index])\n",
    "print(df_2016.iloc[:,index].unique())\n",
    "\n",
    "mapping_1 = {'No': 1,'Yes': 2,\"I don't know\": 3}\n",
    "\n",
    "df_2016 = df_2016.replace({columnname: mapping_1})\n",
    "df_2016[columnname] =df_2016[columnname].fillna(0)\n",
    "\n",
    "print(df_2016.iloc[:,index].unique())"
   ]
  },
  {
   "cell_type": "code",
   "execution_count": 18,
   "metadata": {},
   "outputs": [
    {
     "name": "stdout",
     "output_type": "stream",
     "text": [
      "Have you heard of or observed negative consequences for co-workers who have been open about mental health issues in your workplace?\n",
      "['No' nan 'Yes']\n",
      "[1. 0. 2.]\n"
     ]
    }
   ],
   "source": [
    "# negative consequences for coworkers discussing mental health\n",
    "\n",
    "index = 15\n",
    "\n",
    "columnname = df_2016.columns[index]\n",
    "\n",
    "print(df_2016.columns[index])\n",
    "print(df_2016.iloc[:,index].unique())\n",
    "\n",
    "mapping_1 = {'No': 1,'Yes': 2}\n",
    "\n",
    "df_2016 = df_2016.replace({columnname: mapping_1})\n",
    "df_2016[columnname] =df_2016[columnname].fillna(0)\n",
    "\n",
    "print(df_2016.iloc[:,index].unique())"
   ]
  },
  {
   "cell_type": "code",
   "execution_count": 19,
   "metadata": {},
   "outputs": [
    {
     "name": "stdout",
     "output_type": "stream",
     "text": [
      "Do you know local or online resources to seek help for a mental health disorder?\n",
      "[nan 'Yes, I know several' 'I know some' \"No, I don't know any\"]\n",
      "[0. 1. 2. 3.]\n"
     ]
    }
   ],
   "source": [
    "# online resources for mental health\n",
    "\n",
    "index = 17\n",
    "\n",
    "columnname = df_2016.columns[index]\n",
    "\n",
    "print(df_2016.columns[index])\n",
    "print(df_2016.iloc[:,index].unique())\n",
    "\n",
    "mapping_1 = {'Yes, I know several': 1,'I know some': 2, \"No, I don't know any\": 3}\n",
    "\n",
    "df_2016 = df_2016.replace({columnname: mapping_1})\n",
    "df_2016[columnname] =df_2016[columnname].fillna(0)\n",
    "\n",
    "print(df_2016.iloc[:,index].unique())"
   ]
  },
  {
   "cell_type": "code",
   "execution_count": 20,
   "metadata": {},
   "outputs": [
    {
     "name": "stdout",
     "output_type": "stream",
     "text": [
      "If you have been diagnosed or treated for a mental health disorder, do you ever reveal this to clients or business contacts?\n",
      "[nan 'Sometimes, if it comes up' \"No, because it doesn't matter\"\n",
      " 'No, because it would impact me negatively' 'Not applicable to me'\n",
      " 'Yes, always']\n",
      "[0. 2. 3. 4. 5. 1.]\n"
     ]
    }
   ],
   "source": [
    "# reveal if mental health has been diagnosed to clients\n",
    "\n",
    "index = 18\n",
    "\n",
    "columnname = df_2016.columns[index]\n",
    "\n",
    "print(df_2016.columns[index])\n",
    "print(df_2016.iloc[:,index].unique())\n",
    "\n",
    "mapping_1 = {'Yes, always': 1,'Sometimes, if it comes up': 2, \"No, because it doesn't matter\": 3, \"No, because it would impact me negatively\": 4, \"Not applicable to me\": 5 }\n",
    "\n",
    "df_2016 = df_2016.replace({columnname: mapping_1})\n",
    "df_2016[columnname] =df_2016[columnname].fillna(0)\n",
    "\n",
    "print(df_2016.iloc[:,index].unique())"
   ]
  },
  {
   "cell_type": "code",
   "execution_count": 21,
   "metadata": {},
   "outputs": [
    {
     "name": "stdout",
     "output_type": "stream",
     "text": [
      "If you have revealed a mental health issue to a client or business contact, do you believe this has impacted you negatively?\n",
      "[nan \"I'm not sure\" 'Yes' 'No']\n",
      "[0. 3. 2. 1.]\n"
     ]
    }
   ],
   "source": [
    "# reveal mental health issue to client, negative impact\n",
    "\n",
    "index = 19\n",
    "\n",
    "columnname = df_2016.columns[index]\n",
    "\n",
    "print(df_2016.columns[index])\n",
    "print(df_2016.iloc[:,index].unique())\n",
    "\n",
    "mapping_1 = {'No': 1,'Yes': 2,\"I'm not sure\": 3}\n",
    "\n",
    "df_2016 = df_2016.replace({columnname: mapping_1})\n",
    "df_2016[columnname] =df_2016[columnname].fillna(0)\n",
    "\n",
    "print(df_2016.iloc[:,index].unique())"
   ]
  },
  {
   "cell_type": "code",
   "execution_count": 22,
   "metadata": {},
   "outputs": [
    {
     "name": "stdout",
     "output_type": "stream",
     "text": [
      "If you have been diagnosed or treated for a mental health disorder, do you ever reveal this to coworkers or employees?\n",
      "[nan 'Sometimes, if it comes up'\n",
      " 'No, because it would impact me negatively' 'Not applicable to me'\n",
      " 'Yes, always' \"No, because it doesn't matter\"]\n",
      "[0. 2. 4. 5. 1. 3.]\n"
     ]
    }
   ],
   "source": [
    "# reveal if mental health has been diagnosed to coworkers\n",
    "\n",
    "index = 20\n",
    "\n",
    "columnname = df_2016.columns[index]\n",
    "\n",
    "print(df_2016.columns[index])\n",
    "print(df_2016.iloc[:,index].unique())\n",
    "\n",
    "mapping_1 = {'Yes, always': 1,'Sometimes, if it comes up': 2, \"No, because it doesn't matter\": 3, \"No, because it would impact me negatively\": 4, \"Not applicable to me\": 5 }\n",
    "\n",
    "df_2016 = df_2016.replace({columnname: mapping_1})\n",
    "df_2016[columnname] =df_2016[columnname].fillna(0)\n",
    "\n",
    "print(df_2016.iloc[:,index].unique())"
   ]
  },
  {
   "cell_type": "code",
   "execution_count": 23,
   "metadata": {},
   "outputs": [
    {
     "name": "stdout",
     "output_type": "stream",
     "text": [
      "If you have revealed a mental health issue to a coworker or employee, do you believe this has impacted you negatively?\n",
      "[nan \"I'm not sure\" 'No' 'Yes' 'Not applicable to me']\n",
      "[0. 3. 1. 2. 4.]\n"
     ]
    }
   ],
   "source": [
    "# reveal if mental health has been diagnosed to coworkers negative impact\n",
    "\n",
    "index = 21\n",
    "\n",
    "columnname = df_2016.columns[index]\n",
    "\n",
    "print(df_2016.columns[index])\n",
    "print(df_2016.iloc[:,index].unique())\n",
    "\n",
    "mapping_1 = {'No': 1,'Yes': 2,\"I'm not sure\": 3, \"Not applicable to me\": 4 }\n",
    "\n",
    "df_2016 = df_2016.replace({columnname: mapping_1})\n",
    "df_2016[columnname] =df_2016[columnname].fillna(0)\n",
    "\n",
    "print(df_2016.iloc[:,index].unique())"
   ]
  },
  {
   "cell_type": "code",
   "execution_count": 24,
   "metadata": {},
   "outputs": [
    {
     "name": "stdout",
     "output_type": "stream",
     "text": [
      "Do you believe your productivity is ever affected by a mental health issue?\n",
      "[nan 'Yes' 'Not applicable to me' 'No' 'Unsure']\n",
      "[0. 2. 4. 1. 3.]\n"
     ]
    }
   ],
   "source": [
    "# productivity affected by mental health\n",
    "\n",
    "index = 22\n",
    "\n",
    "columnname = df_2016.columns[index]\n",
    "\n",
    "print(df_2016.columns[index])\n",
    "print(df_2016.iloc[:,index].unique())\n",
    "\n",
    "mapping_1 = {'No': 1,'Yes': 2,\"Unsure\": 3, \"Not applicable to me\": 4 }\n",
    "\n",
    "df_2016 = df_2016.replace({columnname: mapping_1})\n",
    "df_2016[columnname] =df_2016[columnname].fillna(0)\n",
    "\n",
    "print(df_2016.iloc[:,index].unique())"
   ]
  },
  {
   "cell_type": "code",
   "execution_count": 25,
   "metadata": {},
   "outputs": [
    {
     "name": "stdout",
     "output_type": "stream",
     "text": [
      "If yes, what percentage of your work time (time performing primary or secondary job functions) is affected by a mental health issue?\n",
      "[nan '1-25%' '76-100%' '26-50%' '51-75%']\n",
      "[0. 1. 4. 2. 3.]\n"
     ]
    }
   ],
   "source": [
    "# if yes, what precentage\n",
    "\n",
    "index = 23\n",
    "\n",
    "columnname = df_2016.columns[index]\n",
    "\n",
    "print(df_2016.columns[index])\n",
    "print(df_2016.iloc[:,index].unique())\n",
    "\n",
    "mapping_1 = {'1-25%': 1,'26-50%': 2,\"51-75%\": 3, \"76-100%\": 4 }\n",
    "\n",
    "df_2016 = df_2016.replace({columnname: mapping_1})\n",
    "df_2016[columnname] =df_2016[columnname].fillna(0)\n",
    "\n",
    "print(df_2016.iloc[:,index].unique())"
   ]
  },
  {
   "cell_type": "code",
   "execution_count": 26,
   "metadata": {},
   "outputs": [
    {
     "name": "stdout",
     "output_type": "stream",
     "text": [
      "Have your previous employers provided mental health benefits?\n",
      "['No, none did' 'Yes, they all did' 'Some did' \"I don't know\" nan]\n",
      "[3. 1. 2. 4. 0.]\n"
     ]
    }
   ],
   "source": [
    "# previous employer provided mental health benefits\n",
    "\n",
    "index = 25\n",
    "\n",
    "columnname = df_2016.columns[index]\n",
    "\n",
    "print(df_2016.columns[index])\n",
    "print(df_2016.iloc[:,index].unique())\n",
    "\n",
    "mapping_1 = {'Yes, they all did': 1,'Some did': 2,\"No, none did\": 3, \"I don't know\": 4 }\n",
    "\n",
    "df_2016 = df_2016.replace({columnname: mapping_1})\n",
    "df_2016[columnname] =df_2016[columnname].fillna(0)\n",
    "\n",
    "print(df_2016.iloc[:,index].unique())"
   ]
  },
  {
   "cell_type": "code",
   "execution_count": 27,
   "metadata": {},
   "outputs": [
    {
     "name": "stdout",
     "output_type": "stream",
     "text": [
      "Were you aware of the options for mental health care provided by your previous employers?\n",
      "['N/A (not currently aware)' 'I was aware of some'\n",
      " 'Yes, I was aware of all of them' 'No, I only became aware later' nan]\n",
      "[4. 2. 1. 3. 0.]\n"
     ]
    }
   ],
   "source": [
    "# aware of mental health options at previous employer \n",
    "\n",
    "index = 26\n",
    "\n",
    "columnname = df_2016.columns[index]\n",
    "\n",
    "print(df_2016.columns[index])\n",
    "print(df_2016.iloc[:,index].unique())\n",
    "\n",
    "mapping_1 = {'Yes, I was aware of all of them': 1,'I was aware of some': 2,\"No, I only became aware later\": 3, \"N/A (not currently aware)\": 4 }\n",
    "\n",
    "df_2016 = df_2016.replace({columnname: mapping_1})\n",
    "df_2016[columnname] =df_2016[columnname].fillna(0)\n",
    "\n",
    "print(df_2016.iloc[:,index].unique())"
   ]
  },
  {
   "cell_type": "code",
   "execution_count": 28,
   "metadata": {},
   "outputs": [
    {
     "name": "stdout",
     "output_type": "stream",
     "text": [
      "Did your previous employers ever formally discuss mental health (as part of a wellness campaign or other official communication)?\n",
      "[\"I don't know\" 'None did' 'Some did' nan 'Yes, they all did']\n",
      "[4. 3. 2. 0. 1.]\n"
     ]
    }
   ],
   "source": [
    "# did your previous employer discuss mental health \n",
    "\n",
    "index = 27\n",
    "\n",
    "columnname = df_2016.columns[index]\n",
    "\n",
    "print(df_2016.columns[index])\n",
    "print(df_2016.iloc[:,index].unique())\n",
    "\n",
    "mapping_1 = {'Yes, they all did': 1,'Some did': 2,\"None did\": 3, \"I don't know\": 4 }\n",
    "\n",
    "df_2016 = df_2016.replace({columnname: mapping_1})\n",
    "df_2016[columnname] =df_2016[columnname].fillna(0)\n",
    "\n",
    "print(df_2016.iloc[:,index].unique())"
   ]
  },
  {
   "cell_type": "code",
   "execution_count": 29,
   "metadata": {},
   "outputs": [
    {
     "name": "stdout",
     "output_type": "stream",
     "text": [
      "Did your previous employers provide resources to learn more about mental health issues and how to seek help?\n",
      "['None did' 'Some did' nan 'Yes, they all did']\n",
      "[3. 2. 0. 1.]\n"
     ]
    }
   ],
   "source": [
    "# did your previous employer provide mental health info resources\n",
    "\n",
    "index = 28\n",
    "\n",
    "columnname = df_2016.columns[index]\n",
    "\n",
    "print(df_2016.columns[index])\n",
    "print(df_2016.iloc[:,index].unique())\n",
    "\n",
    "mapping_1 = {'Yes, they all did': 1,'Some did': 2,\"None did\": 3}\n",
    "\n",
    "df_2016 = df_2016.replace({columnname: mapping_1})\n",
    "df_2016[columnname] =df_2016[columnname].fillna(0)\n",
    "\n",
    "print(df_2016.iloc[:,index].unique())"
   ]
  },
  {
   "cell_type": "code",
   "execution_count": 30,
   "metadata": {},
   "outputs": [
    {
     "name": "stdout",
     "output_type": "stream",
     "text": [
      "Was your anonymity protected if you chose to take advantage of mental health or substance abuse treatment resources with previous employers?\n",
      "[\"I don't know\" 'Yes, always' 'Sometimes' 'No' nan]\n",
      "[4. 1. 2. 3. 0.]\n"
     ]
    }
   ],
   "source": [
    "# did your previous employer protect your anonmity when using resourecs\n",
    "\n",
    "index = 29\n",
    "\n",
    "columnname = df_2016.columns[index]\n",
    "\n",
    "print(df_2016.columns[index])\n",
    "print(df_2016.iloc[:,index].unique())\n",
    "\n",
    "mapping_1 = {'Yes, always': 1,'Sometimes': 2,\"No\": 3, \"I don't know\":4}\n",
    "\n",
    "df_2016 = df_2016.replace({columnname: mapping_1})\n",
    "df_2016[columnname] =df_2016[columnname].fillna(0)\n",
    "\n",
    "print(df_2016.iloc[:,index].unique())"
   ]
  },
  {
   "cell_type": "code",
   "execution_count": 31,
   "metadata": {},
   "outputs": [
    {
     "name": "stdout",
     "output_type": "stream",
     "text": [
      "Do you think that discussing a mental health disorder with previous employers would have negative consequences?\n",
      "['Some of them' 'None of them' \"I don't know\" 'Yes, all of them' nan]\n",
      "[2. 3. 4. 1. 0.]\n"
     ]
    }
   ],
   "source": [
    "# discussing mental health disorder with previous employer negative consequences\n",
    "\n",
    "index = 30\n",
    "\n",
    "columnname = df_2016.columns[index]\n",
    "\n",
    "print(df_2016.columns[index])\n",
    "print(df_2016.iloc[:,index].unique())\n",
    "\n",
    "mapping_1 = {'Yes, all of them': 1,'Some of them': 2,\"None of them\": 3, \"I don't know\":4}\n",
    "\n",
    "df_2016 = df_2016.replace({columnname: mapping_1})\n",
    "df_2016[columnname] =df_2016[columnname].fillna(0)\n",
    "\n",
    "print(df_2016.iloc[:,index].unique())"
   ]
  },
  {
   "cell_type": "code",
   "execution_count": 32,
   "metadata": {},
   "outputs": [
    {
     "name": "stdout",
     "output_type": "stream",
     "text": [
      "Do you think that discussing a physical health issue with previous employers would have negative consequences?\n",
      "['None of them' 'Some of them' 'Yes, all of them' nan]\n",
      "[3. 2. 1. 0.]\n"
     ]
    }
   ],
   "source": [
    "# discussing physical health disorder with previous employer negative consequences\n",
    "\n",
    "index = 31\n",
    "\n",
    "columnname = df_2016.columns[index]\n",
    "\n",
    "print(df_2016.columns[index])\n",
    "print(df_2016.iloc[:,index].unique())\n",
    "\n",
    "mapping_1 = {'Yes, all of them': 1,'Some of them': 2,\"None of them\": 3}\n",
    "\n",
    "df_2016 = df_2016.replace({columnname: mapping_1})\n",
    "df_2016[columnname] =df_2016[columnname].fillna(0)\n",
    "\n",
    "print(df_2016.iloc[:,index].unique())"
   ]
  },
  {
   "cell_type": "code",
   "execution_count": 33,
   "metadata": {},
   "outputs": [
    {
     "name": "stdout",
     "output_type": "stream",
     "text": [
      "Would you have been willing to discuss a mental health issue with your previous co-workers?\n",
      "['Some of my previous employers' 'No, at none of my previous employers'\n",
      " 'Yes, at all of my previous employers' nan]\n",
      "[2. 3. 1. 0.]\n"
     ]
    }
   ],
   "source": [
    "# discussing mental health disorder with previous coworkers\n",
    "\n",
    "index = 32\n",
    "\n",
    "columnname = df_2016.columns[index]\n",
    "\n",
    "print(df_2016.columns[index])\n",
    "print(df_2016.iloc[:,index].unique())\n",
    "\n",
    "mapping_1 = {'Yes, at all of my previous employers': 1,'Some of my previous employers': 2,\"No, at none of my previous employers\": 3}\n",
    "\n",
    "df_2016 = df_2016.replace({columnname: mapping_1})\n",
    "df_2016[columnname] =df_2016[columnname].fillna(0)\n",
    "\n",
    "print(df_2016.iloc[:,index].unique())"
   ]
  },
  {
   "cell_type": "code",
   "execution_count": 34,
   "metadata": {},
   "outputs": [
    {
     "name": "stdout",
     "output_type": "stream",
     "text": [
      "Would you have been willing to discuss a mental health issue with your direct supervisor(s)?\n",
      "['Some of my previous employers' \"I don't know\"\n",
      " 'No, at none of my previous employers'\n",
      " 'Yes, at all of my previous employers' nan]\n",
      "[2. 4. 3. 1. 0.]\n"
     ]
    }
   ],
   "source": [
    "# discussing mental health disorder with direct supervisors\n",
    "\n",
    "index = 33\n",
    "\n",
    "columnname = df_2016.columns[index]\n",
    "\n",
    "print(df_2016.columns[index])\n",
    "print(df_2016.iloc[:,index].unique())\n",
    "\n",
    "mapping_1 = {'Yes, at all of my previous employers': 1,'Some of my previous employers': 2,\"No, at none of my previous employers\": 3, \"I don't know\":4}\n",
    "\n",
    "df_2016 = df_2016.replace({columnname: mapping_1})\n",
    "df_2016[columnname] =df_2016[columnname].fillna(0)\n",
    "\n",
    "print(df_2016.iloc[:,index].unique())"
   ]
  },
  {
   "cell_type": "code",
   "execution_count": 35,
   "metadata": {},
   "outputs": [
    {
     "name": "stdout",
     "output_type": "stream",
     "text": [
      "Did you feel that your previous employers took mental health as seriously as physical health?\n",
      "[\"I don't know\" 'Some did' 'None did' 'Yes, they all did' nan]\n",
      "[4. 2. 3. 1. 0.]\n"
     ]
    }
   ],
   "source": [
    "# did you feel previous employer take mental health as seriously as physical health\n",
    "\n",
    "index = 34\n",
    "\n",
    "columnname = df_2016.columns[index]\n",
    "\n",
    "print(df_2016.columns[index])\n",
    "print(df_2016.iloc[:,index].unique())\n",
    "\n",
    "mapping_1 = {'Yes, they all did': 1,'Some did': 2,\"None did\": 3, \"I don't know\": 4 }\n",
    "\n",
    "df_2016 = df_2016.replace({columnname: mapping_1})\n",
    "df_2016[columnname] =df_2016[columnname].fillna(0)\n",
    "\n",
    "print(df_2016.iloc[:,index].unique())"
   ]
  },
  {
   "cell_type": "code",
   "execution_count": 36,
   "metadata": {},
   "outputs": [
    {
     "name": "stdout",
     "output_type": "stream",
     "text": [
      "Did you hear of or observe negative consequences for co-workers with mental health issues in your previous workplaces?\n",
      "['None of them' 'Some of them' nan 'Yes, all of them']\n",
      "[3. 2. 0. 1.]\n"
     ]
    }
   ],
   "source": [
    "# observe negative consequences for coworkers with mental health at previous employers\n",
    "\n",
    "index = 35\n",
    "\n",
    "columnname = df_2016.columns[index]\n",
    "\n",
    "print(df_2016.columns[index])\n",
    "print(df_2016.iloc[:,index].unique())\n",
    "\n",
    "mapping_1 = {'Yes, all of them': 1,'Some of them': 2,\"None of them\": 3}\n",
    "\n",
    "df_2016 = df_2016.replace({columnname: mapping_1})\n",
    "df_2016[columnname] =df_2016[columnname].fillna(0)\n",
    "\n",
    "print(df_2016.iloc[:,index].unique())"
   ]
  },
  {
   "cell_type": "code",
   "execution_count": 37,
   "metadata": {},
   "outputs": [
    {
     "name": "stdout",
     "output_type": "stream",
     "text": [
      "Would you be willing to bring up a physical health issue with a potential employer in an interview?\n",
      "['Maybe' 'Yes' 'No']\n",
      "[3 2 1]\n"
     ]
    }
   ],
   "source": [
    "# talk about physical health issues with potential employer in an interview\n",
    "\n",
    "index = 36\n",
    "\n",
    "columnname = df_2016.columns[index]\n",
    "\n",
    "print(df_2016.columns[index])\n",
    "print(df_2016.iloc[:,index].unique())\n",
    "\n",
    "mapping_1 = {'No': 1,'Yes': 2,\"Maybe\": 3}\n",
    "\n",
    "df_2016 = df_2016.replace({columnname: mapping_1})\n",
    "df_2016[columnname] =df_2016[columnname].fillna(0)\n",
    "\n",
    "print(df_2016.iloc[:,index].unique())"
   ]
  },
  {
   "cell_type": "code",
   "execution_count": 38,
   "metadata": {},
   "outputs": [
    {
     "name": "stdout",
     "output_type": "stream",
     "text": [
      "Would you bring up a mental health issue with a potential employer in an interview?\n",
      "['Maybe' 'No' 'Yes']\n",
      "[3 1 2]\n"
     ]
    }
   ],
   "source": [
    "# talk about mental health issues with potential employer in an interview\n",
    "\n",
    "index = 38\n",
    "\n",
    "columnname = df_2016.columns[index]\n",
    "\n",
    "print(df_2016.columns[index])\n",
    "print(df_2016.iloc[:,index].unique())\n",
    "\n",
    "mapping_1 = {'No': 1,'Yes': 2,\"Maybe\": 3}\n",
    "\n",
    "df_2016 = df_2016.replace({columnname: mapping_1})\n",
    "df_2016[columnname] =df_2016[columnname].fillna(0)\n",
    "\n",
    "print(df_2016.iloc[:,index].unique())"
   ]
  },
  {
   "cell_type": "code",
   "execution_count": 39,
   "metadata": {},
   "outputs": [
    {
     "name": "stdout",
     "output_type": "stream",
     "text": [
      "Do you think that team members/co-workers would view you more negatively if they knew you suffered from a mental health issue?\n",
      "[\"No, I don't think they would\" 'Maybe' 'Yes, they do'\n",
      " 'Yes, I think they would' 'No, they do not']\n",
      "[4 3 1 2 5]\n"
     ]
    }
   ],
   "source": [
    "# coworkers view if mental health issue\n",
    "\n",
    "index = 41\n",
    "\n",
    "columnname = df_2016.columns[index]\n",
    "\n",
    "print(df_2016.columns[index])\n",
    "print(df_2016.iloc[:,index].unique())\n",
    "\n",
    "mapping_1 = {'Yes, they do': 1,'Yes, I think they would': 2,\"Maybe\": 3, \"No, I don't think they would\": 4, \"No, they do not\": 5 }\n",
    "\n",
    "df_2016 = df_2016.replace({columnname: mapping_1})\n",
    "df_2016[columnname] =df_2016[columnname].fillna(0)\n",
    "\n",
    "print(df_2016.iloc[:,index].unique())"
   ]
  },
  {
   "cell_type": "code",
   "execution_count": 40,
   "metadata": {},
   "outputs": [
    {
     "name": "stdout",
     "output_type": "stream",
     "text": [
      "How willing would you be to share with friends and family that you have a mental illness?\n",
      "['Somewhat open' 'Neutral'\n",
      " 'Not applicable to me (I do not have a mental illness)' 'Very open'\n",
      " 'Not open at all' 'Somewhat not open']\n",
      "[2 3 6 1 5 4]\n"
     ]
    }
   ],
   "source": [
    "# share friends and family mental health issue\n",
    "\n",
    "index = 42\n",
    "\n",
    "columnname = df_2016.columns[index]\n",
    "\n",
    "print(df_2016.columns[index])\n",
    "print(df_2016.iloc[:,index].unique())\n",
    "\n",
    "mapping_1 = {'Very open': 1,'Somewhat open': 2,\"Neutral\": 3, \"Somewhat not open\": 4, \"Not open at all\": 5, \"Not applicable to me (I do not have a mental illness)\":6}\n",
    "\n",
    "df_2016 = df_2016.replace({columnname: mapping_1})\n",
    "df_2016[columnname] =df_2016[columnname].fillna(0)\n",
    "\n",
    "print(df_2016.iloc[:,index].unique())"
   ]
  },
  {
   "cell_type": "code",
   "execution_count": 41,
   "metadata": {},
   "outputs": [
    {
     "name": "stdout",
     "output_type": "stream",
     "text": [
      "Have you observed or experienced an unsupportive or badly handled response to a mental health issue in your current or previous workplace?\n",
      "['No' 'Maybe/Not sure' 'Yes, I experienced' 'Yes, I observed' nan]\n",
      "[4. 3. 1. 2. 0.]\n"
     ]
    }
   ],
   "source": [
    "# bad response by employer to mental health issue\n",
    "\n",
    "index = 43\n",
    "\n",
    "columnname = df_2016.columns[index]\n",
    "\n",
    "print(df_2016.columns[index])\n",
    "print(df_2016.iloc[:,index].unique())\n",
    "\n",
    "mapping_1 = {'Yes, I experienced': 1,'Yes, I observed': 2,\"Maybe/Not sure\": 3, \"No\": 4}\n",
    "\n",
    "df_2016 = df_2016.replace({columnname: mapping_1})\n",
    "df_2016[columnname] =df_2016[columnname].fillna(0)\n",
    "\n",
    "print(df_2016.iloc[:,index].unique())"
   ]
  },
  {
   "cell_type": "code",
   "execution_count": 42,
   "metadata": {},
   "outputs": [
    {
     "name": "stdout",
     "output_type": "stream",
     "text": [
      "Have your observations of how another individual who discussed a mental health disorder made you less likely to reveal a mental health issue yourself in your current workplace?\n",
      "[nan 'Yes' 'No' 'Maybe']\n",
      "[0. 1. 3. 2.]\n"
     ]
    }
   ],
   "source": [
    "#Have your observations of how another individual who discussed a mental health disorder made you less likely to reveal a mental health issue yourself in your current workplace?\n",
    "\n",
    "index = 44\n",
    "\n",
    "columnname = df_2016.columns[index]\n",
    "\n",
    "print(df_2016.columns[index])\n",
    "print(df_2016.iloc[:,index].unique())\n",
    "\n",
    "mapping_1 = {'Yes': 1, \"Maybe\": 2, \"No\": 3}\n",
    "\n",
    "df_2016 = df_2016.replace({columnname: mapping_1})\n",
    "df_2016[columnname] =df_2016[columnname].fillna(0)\n",
    "\n",
    "print(df_2016.iloc[:,index].unique())"
   ]
  },
  {
   "cell_type": "code",
   "execution_count": 43,
   "metadata": {},
   "outputs": [
    {
     "name": "stdout",
     "output_type": "stream",
     "text": [
      "Do you have a family history of mental illness?\n",
      "['No' 'Yes' \"I don't know\"]\n",
      "[2 1 3]\n"
     ]
    }
   ],
   "source": [
    "# family mental illness\n",
    "\n",
    "index = 45\n",
    "\n",
    "columnname = df_2016.columns[index]\n",
    "\n",
    "print(df_2016.columns[index])\n",
    "print(df_2016.iloc[:,index].unique())\n",
    "\n",
    "mapping_1 = {'Yes': 1, \"No\": 2, \"I don't know\": 3}\n",
    "\n",
    "df_2016 = df_2016.replace({columnname: mapping_1})\n",
    "df_2016[columnname] =df_2016[columnname].fillna(0)\n",
    "\n",
    "print(df_2016.iloc[:,index].unique())"
   ]
  },
  {
   "cell_type": "code",
   "execution_count": 44,
   "metadata": {},
   "outputs": [
    {
     "name": "stdout",
     "output_type": "stream",
     "text": [
      "Have you had a mental health disorder in the past?\n",
      "['Yes' 'Maybe' 'No']\n",
      "[1 2 3]\n"
     ]
    }
   ],
   "source": [
    "# Mental health disorder in the past\n",
    "\n",
    "index = 46\n",
    "\n",
    "columnname = df_2016.columns[index]\n",
    "\n",
    "print(df_2016.columns[index])\n",
    "print(df_2016.iloc[:,index].unique())\n",
    "\n",
    "mapping_1 = {'Yes': 1, \"Maybe\": 2, \"No\": 3}\n",
    "\n",
    "df_2016 = df_2016.replace({columnname: mapping_1})\n",
    "df_2016[columnname] =df_2016[columnname].fillna(0)\n",
    "\n",
    "print(df_2016.iloc[:,index].unique())"
   ]
  },
  {
   "cell_type": "code",
   "execution_count": 45,
   "metadata": {},
   "outputs": [
    {
     "name": "stdout",
     "output_type": "stream",
     "text": [
      "Do you currently have a mental health disorder?\n",
      "['No' 'Yes' 'Maybe']\n",
      "[3 1 2]\n"
     ]
    }
   ],
   "source": [
    "# Mental health disorder currently\n",
    "\n",
    "index = 47\n",
    "\n",
    "columnname = df_2016.columns[index]\n",
    "\n",
    "print(df_2016.columns[index])\n",
    "print(df_2016.iloc[:,index].unique())\n",
    "\n",
    "mapping_1 = {'Yes': 1, \"Maybe\": 2, \"No\": 3}\n",
    "\n",
    "df_2016 = df_2016.replace({columnname: mapping_1})\n",
    "df_2016[columnname] =df_2016[columnname].fillna(0)\n",
    "\n",
    "print(df_2016.iloc[:,index].unique())"
   ]
  },
  {
   "cell_type": "code",
   "execution_count": 46,
   "metadata": {},
   "outputs": [
    {
     "name": "stdout",
     "output_type": "stream",
     "text": [
      "Have you been diagnosed with a mental health condition by a medical professional?\n",
      "['Yes' 'No']\n",
      "[1 2]\n"
     ]
    }
   ],
   "source": [
    "# diagnosed Mental health disorder by medical professional\n",
    "\n",
    "index = 50\n",
    "\n",
    "columnname = df_2016.columns[index]\n",
    "\n",
    "print(df_2016.columns[index])\n",
    "print(df_2016.iloc[:,index].unique())\n",
    "\n",
    "mapping_1 = {'Yes': 1, \"No\": 2}\n",
    "\n",
    "df_2016 = df_2016.replace({columnname: mapping_1})\n",
    "df_2016[columnname] =df_2016[columnname].fillna(0)\n",
    "\n",
    "print(df_2016.iloc[:,index].unique())"
   ]
  },
  {
   "cell_type": "code",
   "execution_count": 47,
   "metadata": {},
   "outputs": [
    {
     "name": "stdout",
     "output_type": "stream",
     "text": [
      "If you have a mental health issue, do you feel that it interferes with your work when being treated effectively?\n",
      "['Not applicable to me' 'Rarely' 'Sometimes' 'Never' 'Often']\n",
      "[5 3 2 4 1]\n"
     ]
    }
   ],
   "source": [
    "# if mental health issue, does it interfer with work when treated effectively\n",
    "\n",
    "index = 53\n",
    "\n",
    "columnname = df_2016.columns[index]\n",
    "\n",
    "print(df_2016.columns[index])\n",
    "print(df_2016.iloc[:,index].unique())\n",
    "\n",
    "mapping_1 = {'Often': 1, \"Sometimes\": 2,'Rarely': 3, \"Never\": 4, \"Not applicable to me\": 5}\n",
    "\n",
    "df_2016 = df_2016.replace({columnname: mapping_1})\n",
    "df_2016[columnname] =df_2016[columnname].fillna(0)\n",
    "\n",
    "print(df_2016.iloc[:,index].unique())"
   ]
  },
  {
   "cell_type": "code",
   "execution_count": 48,
   "metadata": {},
   "outputs": [
    {
     "name": "stdout",
     "output_type": "stream",
     "text": [
      "If you have a mental health issue, do you feel that it interferes with your work when NOT being treated effectively?\n",
      "['Not applicable to me' 'Sometimes' 'Often' 'Rarely' 'Never']\n",
      "[5 2 1 3 4]\n"
     ]
    }
   ],
   "source": [
    "# if mental health issue, does it interfer with work when NOT treated effectively\n",
    "\n",
    "index = 54\n",
    "\n",
    "columnname = df_2016.columns[index]\n",
    "\n",
    "print(df_2016.columns[index])\n",
    "print(df_2016.iloc[:,index].unique())\n",
    "\n",
    "mapping_1 = {'Often': 1, \"Sometimes\": 2,'Rarely': 3, \"Never\": 4, \"Not applicable to me\": 5}\n",
    "\n",
    "df_2016 = df_2016.replace({columnname: mapping_1})\n",
    "df_2016[columnname] =df_2016[columnname].fillna(0)\n",
    "\n",
    "print(df_2016.iloc[:,index].unique())"
   ]
  },
  {
   "cell_type": "code",
   "execution_count": 49,
   "metadata": {},
   "outputs": [
    {
     "name": "stdout",
     "output_type": "stream",
     "text": [
      "What is your gender?\n",
      "['Male' 'male' 'Male ' 'Female' 'M' 'female' 'm' 'I identify as female.'\n",
      " 'female ' 'Bigender' 'non-binary' 'Female assigned at birth ' 'F' 'Woman'\n",
      " 'man' 'fm' 'f' 'Cis female ' 'Transitioned, M2F'\n",
      " 'Genderfluid (born female)' 'Other/Transfeminine'\n",
      " 'Female or Multi-Gender Femme' 'Female ' 'woman' 'female/woman'\n",
      " 'Cis male' 'Male.' 'Androgynous' 'male 9:1 female, roughly' nan\n",
      " 'Male (cis)' 'Other' 'nb masculine' 'Cisgender Female' 'Man'\n",
      " 'Sex is male' 'none of your business' 'genderqueer' 'cis male' 'Human'\n",
      " 'Genderfluid' 'Enby' 'Malr' 'genderqueer woman' 'mtf' 'Queer' 'Agender'\n",
      " 'Dude' 'Fluid'\n",
      " \"I'm a man why didn't you make this a drop down question. You should of asked sex? And I would of answered yes please. Seriously how much text can this take? \"\n",
      " 'mail' 'M|' 'Male/genderqueer' 'fem' 'Nonbinary' 'male ' 'human'\n",
      " 'Female (props for making this a freeform field, though)' ' Female'\n",
      " 'Unicorn' 'Cis Male' 'Male (trans, FtM)' 'Cis-woman' 'Genderqueer'\n",
      " 'cisdude' 'Genderflux demi-girl'\n",
      " 'female-bodied; no feelings about gender' 'cis man' 'AFAB'\n",
      " 'Transgender woman' 'MALE']\n",
      "unique values: 71\n"
     ]
    }
   ],
   "source": [
    "# gender description\n",
    "\n",
    "index = 56\n",
    "\n",
    "columnname = df_2016.columns[index]\n",
    "\n",
    "print(df_2016.columns[index])\n",
    "print(df_2016.iloc[:,index].unique())\n",
    "print('unique values: ' + str(len(df_2016.iloc[:,index].unique())))"
   ]
  },
  {
   "cell_type": "code",
   "execution_count": 50,
   "metadata": {},
   "outputs": [
    {
     "name": "stdout",
     "output_type": "stream",
     "text": [
      "[1. 2. 3.]\n",
      "What is your gender?\n",
      "1.0    1054\n",
      "2.0     336\n",
      "3.0      43\n",
      "Name: count, dtype: int64\n",
      "What is your gender?\n",
      "1.0    0.735520\n",
      "2.0    0.234473\n",
      "3.0    0.030007\n",
      "Name: proportion, dtype: float64\n"
     ]
    }
   ],
   "source": [
    "#gender was a opentext field so we categorized them into three categories: cis male, cis female and others\n",
    "#we took the liberty to correct some formats and categorize to the best of our knowlegde\n",
    "\n",
    "\n",
    "mapping_male = ['Male', 'male', 'Male ', 'M', 'm', 'man', 'Cis male', 'Male.', 'Male (cis)', 'Sex is male', 'cis male', 'Dude', \"I'm a man why didn't you make this a drop down question. You should of asked sex? And I would of answered yes please. Seriously how much text can this take? \", 'male ', 'Cis Male', 'cisdude', 'cis man', 'MALE', 'Man']\n",
    "mapping_female = ['female', 'Female', 'I identify as female.', 'female ', 'Female assigned at birth ', 'F', 'Woman', 'f', 'Cis female ', 'Female ', 'woman', 'female/woman', 'Female (props for making this a freeform field, though)', ' Female', 'Cis-woman', 'Cisgender Female']\n",
    "mapping_other = ['Bigender', 'non-binary', 'fm', 'Transitioned, M2F', 'Genderfluid (born female)', 'Other/Transfeminine', 'Female or Multi-Gender Femme', 'Androgynous', 'male 9:1 female, roughly', 'Other', 'nb masculine', 'none of your business', 'genderqueer', 'Human', 'Genderfluid','Enby', 'Malr', 'genderqueer woman', 'mtf', 'Queer', 'Agender', 'Fluid', 'mail', 'M|', 'Male/genderqueer', 'fem', 'Nonbinary', 'human', 'Unicorn', 'Male (trans, FtM)', 'Genderqueer', 'Genderflux demi-girl', 'female-bodied; no feelings about gender', 'AFAB', 'Transgender woman' ]\n",
    "\n",
    "df_2016 = df_2016.replace(mapping_male, 1)\n",
    "df_2016 = df_2016.replace(mapping_female, 2)\n",
    "df_2016 = df_2016.replace(mapping_other, 3)\n",
    "df_2016[columnname] =df_2016[columnname].fillna(3)\n",
    "\n",
    "print(df_2016.iloc[:,index].unique())\n",
    "print(df_2016[columnname].value_counts())\n",
    "print(df_2016[columnname].value_counts(normalize=True))\n"
   ]
  },
  {
   "cell_type": "code",
   "execution_count": 51,
   "metadata": {},
   "outputs": [
    {
     "name": "stdout",
     "output_type": "stream",
     "text": [
      "Do you work remotely?\n",
      "['Sometimes' 'Never' 'Always']\n",
      "[2 3 1]\n"
     ]
    }
   ],
   "source": [
    "# How much a person works remotely\n",
    "\n",
    "index = 62\n",
    "\n",
    "columnname = df_2016.columns[index]\n",
    "\n",
    "print(df_2016.columns[index])\n",
    "print(df_2016.iloc[:,index].unique())\n",
    "\n",
    "mapping_1 = {'Always': 1, \"Sometimes\": 2, \"Never\": 3}\n",
    "\n",
    "df_2016 = df_2016.replace({columnname: mapping_1})\n",
    "\n",
    "print(df_2016.iloc[:,index].unique())"
   ]
  },
  {
   "cell_type": "code",
   "execution_count": 52,
   "metadata": {},
   "outputs": [],
   "source": [
    "import matplotlib.pyplot as plt\n",
    "\n"
   ]
  },
  {
   "cell_type": "code",
   "execution_count": 53,
   "metadata": {},
   "outputs": [
    {
     "name": "stdout",
     "output_type": "stream",
     "text": [
      "What country do you work in?\n",
      "['United Kingdom' 'United States of America' 'Canada' 'Germany'\n",
      " 'Netherlands' 'Czech Republic' 'Lithuania' 'Australia' 'France'\n",
      " 'Venezuela' 'Poland' 'Belgium' 'Brazil' 'Denmark' 'Sweden' 'Russia'\n",
      " 'Spain' 'India' 'United Arab Emirates' 'Mexico' 'Switzerland' 'Norway'\n",
      " 'Argentina' 'Ireland' 'Italy' 'Finland' 'Turkey' 'Colombia' 'Costa Rica'\n",
      " 'Vietnam' 'Bulgaria' 'New Zealand' 'South Africa' 'Slovakia' 'Austria'\n",
      " 'Bangladesh' 'Pakistan' 'Afghanistan' 'Greece' 3 'Romania' 'Brunei'\n",
      " 'Iran' 'Hungary' 'Israel' 'Japan' 'Ecuador' 'Bosnia and Herzegovina'\n",
      " 'China' 'Chile' 'Guatemala' 'Serbia' 'Estonia']\n",
      "['United Kingdom' 'United States of America' 'Canada' 'Germany'\n",
      " 'Netherlands' 'Czech Republic' 'Lithuania' 'Australia' 'France'\n",
      " 'Venezuela' 'Poland' 'Belgium' 'Brazil' 'Denmark' 'Sweden' 'Russia'\n",
      " 'Spain' 'India' 'United Arab Emirates' 'Mexico' 'Switzerland' 'Norway'\n",
      " 'Argentina' 'Ireland' 'Italy' 'Finland' 'Turkey' 'Colombia' 'Costa Rica'\n",
      " 'Vietnam' 'Bulgaria' 'New Zealand' 'South Africa' 'Slovakia' 'Austria'\n",
      " 'Bangladesh' 'Pakistan' 'Afghanistan' 'Greece' 3 'Romania' 'Brunei'\n",
      " 'Iran' 'Hungary' 'Israel' 'Japan' 'Ecuador' 'Bosnia and Herzegovina'\n",
      " 'China' 'Chile' 'Guatemala' 'Serbia' 'Estonia']\n",
      "What country do you work in?\n",
      "United States of America    851\n",
      "United Kingdom              183\n",
      "Canada                       74\n",
      "Germany                      58\n",
      "Netherlands                  47\n",
      "Australia                    34\n",
      "Sweden                       20\n",
      "Ireland                      15\n",
      "France                       14\n",
      "Switzerland                  10\n",
      "Brazil                       10\n",
      "India                         9\n",
      "Russia                        9\n",
      "New Zealand                   9\n",
      "Denmark                       7\n",
      "Bulgaria                      7\n",
      "Finland                       7\n",
      "Belgium                       5\n",
      "South Africa                  4\n",
      "Poland                        4\n",
      "Austria                       4\n",
      "Czech Republic                3\n",
      "Italy                         3\n",
      "Chile                         3\n",
      "Norway                        3\n",
      "Romania                       3\n",
      "Spain                         3\n",
      "3                             2\n",
      "Bosnia and Herzegovina        2\n",
      "Afghanistan                   2\n",
      "Pakistan                      2\n",
      "Israel                        2\n",
      "Estonia                       2\n",
      "Colombia                      2\n",
      "Mexico                        2\n",
      "Slovakia                      1\n",
      "United Arab Emirates          1\n",
      "Serbia                        1\n",
      "Guatemala                     1\n",
      "Lithuania                     1\n",
      "China                         1\n",
      "Venezuela                     1\n",
      "Ecuador                       1\n",
      "Japan                         1\n",
      "Hungary                       1\n",
      "Vietnam                       1\n",
      "Iran                          1\n",
      "Brunei                        1\n",
      "Argentina                     1\n",
      "Greece                        1\n",
      "Costa Rica                    1\n",
      "Bangladesh                    1\n",
      "Turkey                        1\n",
      "Name: count, dtype: int64\n",
      "What country do you work in?\n",
      "United States of America    0.593859\n",
      "United Kingdom              0.127704\n",
      "Canada                      0.051640\n",
      "Germany                     0.040475\n",
      "Netherlands                 0.032798\n",
      "Australia                   0.023726\n",
      "Sweden                      0.013957\n",
      "Ireland                     0.010468\n",
      "France                      0.009770\n",
      "Switzerland                 0.006978\n",
      "Brazil                      0.006978\n",
      "India                       0.006281\n",
      "Russia                      0.006281\n",
      "New Zealand                 0.006281\n",
      "Denmark                     0.004885\n",
      "Bulgaria                    0.004885\n",
      "Finland                     0.004885\n",
      "Belgium                     0.003489\n",
      "South Africa                0.002791\n",
      "Poland                      0.002791\n",
      "Austria                     0.002791\n",
      "Czech Republic              0.002094\n",
      "Italy                       0.002094\n",
      "Chile                       0.002094\n",
      "Norway                      0.002094\n",
      "Romania                     0.002094\n",
      "Spain                       0.002094\n",
      "3                           0.001396\n",
      "Bosnia and Herzegovina      0.001396\n",
      "Afghanistan                 0.001396\n",
      "Pakistan                    0.001396\n",
      "Israel                      0.001396\n",
      "Estonia                     0.001396\n",
      "Colombia                    0.001396\n",
      "Mexico                      0.001396\n",
      "Slovakia                    0.000698\n",
      "United Arab Emirates        0.000698\n",
      "Serbia                      0.000698\n",
      "Guatemala                   0.000698\n",
      "Lithuania                   0.000698\n",
      "China                       0.000698\n",
      "Venezuela                   0.000698\n",
      "Ecuador                     0.000698\n",
      "Japan                       0.000698\n",
      "Hungary                     0.000698\n",
      "Vietnam                     0.000698\n",
      "Iran                        0.000698\n",
      "Brunei                      0.000698\n",
      "Argentina                   0.000698\n",
      "Greece                      0.000698\n",
      "Costa Rica                  0.000698\n",
      "Bangladesh                  0.000698\n",
      "Turkey                      0.000698\n",
      "Name: proportion, dtype: float64\n"
     ]
    }
   ],
   "source": [
    "# How much a person works remotely\n",
    "\n",
    "index = 59\n",
    "\n",
    "columnname = df_2016.columns[index]\n",
    "\n",
    "print(df_2016.columns[index])\n",
    "print(df_2016.iloc[:,index].unique())\n",
    "\n",
    "print(df_2016.iloc[:,index].unique())\n",
    "print(df_2016[columnname].value_counts())\n",
    "print(df_2016[columnname].value_counts(normalize=True))"
   ]
  },
  {
   "cell_type": "code",
   "execution_count": 69,
   "metadata": {},
   "outputs": [],
   "source": [
    "\n",
    "import numpy as np\n",
    "\n",
    "import statsmodels.api as sm\n",
    "\n"
   ]
  },
  {
   "cell_type": "code",
   "execution_count": 80,
   "metadata": {},
   "outputs": [
    {
     "name": "stdout",
     "output_type": "stream",
     "text": [
      "                                           OLS Regression Results                                          \n",
      "===========================================================================================================\n",
      "Dep. Variable:     Do you currently have a mental health disorder?   R-squared:                       0.090\n",
      "Model:                                                         OLS   Adj. R-squared:                  0.078\n",
      "Method:                                              Least Squares   F-statistic:                     7.495\n",
      "Date:                                             Mon, 04 Dec 2023   Prob (F-statistic):           4.29e-16\n",
      "Time:                                                     01:09:38   Log-Likelihood:                -1428.1\n",
      "No. Observations:                                             1146   AIC:                             2888.\n",
      "Df Residuals:                                                 1130   BIC:                             2969.\n",
      "Df Model:                                                       15                                         \n",
      "Covariance Type:                                         nonrobust                                         \n",
      "==================================================================================================================================================================================================================\n",
      "                                                                                                                                                     coef    std err          t      P>|t|      [0.025      0.975]\n",
      "------------------------------------------------------------------------------------------------------------------------------------------------------------------------------------------------------------------\n",
      "const                                                                                                                                              1.6909      0.261      6.475      0.000       1.179       2.203\n",
      "How many employees does your company or organization have?                                                                                        -0.0218      0.018     -1.230      0.219      -0.057       0.013\n",
      "Does your employer provide mental health benefits as part of healthcare coverage?                                                                  0.0567      0.031      1.809      0.071      -0.005       0.118\n",
      "Do you know the options for mental health care available under your employer-provided coverage?                                                   -0.0765      0.025     -3.013      0.003      -0.126      -0.027\n",
      "Has your employer ever formally discussed mental health (for example, as part of a wellness campaign or other official communication)?             0.1063      0.042      2.534      0.011       0.024       0.189\n",
      "Does your employer offer resources to learn more about mental health concerns and options for seeking help?                                        0.0088      0.033      0.269      0.788      -0.055       0.073\n",
      "Is your anonymity protected if you choose to take advantage of mental health or substance abuse treatment resources provided by your employer?    -0.0134      0.042     -0.321      0.748      -0.095       0.068\n",
      "Do you think that discussing a mental health disorder with your employer would have negative consequences?                                         0.0267      0.030      0.885      0.376      -0.033       0.086\n",
      "Would you feel comfortable discussing a mental health disorder with your coworkers?                                                             1.536e-05      0.032      0.000      1.000      -0.062       0.062\n",
      "Would you feel comfortable discussing a mental health disorder with your direct supervisor(s)?                                                     0.0274      0.035      0.792      0.429      -0.041       0.095\n",
      "Do you feel that your employer takes mental health as seriously as physical health?                                                                0.0979      0.032      3.095      0.002       0.036       0.160\n",
      "Have you heard of or observed negative consequences for co-workers who have been open about mental health issues in your workplace?               -0.0025      0.094     -0.027      0.979      -0.187       0.182\n",
      "If you have revealed a mental health issue to a client or business contact, do you believe this has impacted you negatively?                    1.059e-17   3.82e-18      2.774      0.006     3.1e-18    1.81e-17\n",
      "If you have revealed a mental health issue to a coworker or employee, do you believe this has impacted you negatively?                          1.143e-17   1.09e-17      1.047      0.295   -9.99e-18    3.28e-17\n",
      "Do you think that team members/co-workers would view you more negatively if they knew you suffered from a mental health issue?                    -0.0230      0.031     -0.740      0.459      -0.084       0.038\n",
      "Have you observed or experienced an unsupportive or badly handled response to a mental health issue in your current or previous workplace?         0.1098      0.022      5.004      0.000       0.067       0.153\n",
      "What is your age?                                                                                                                                  0.0023      0.002      1.059      0.290      -0.002       0.007\n",
      "What is your gender?                                                                                                                              -0.2966      0.049     -6.028      0.000      -0.393      -0.200\n",
      "==============================================================================\n",
      "Omnibus:                    11978.986   Durbin-Watson:                   1.997\n",
      "Prob(Omnibus):                  0.000   Jarque-Bera (JB):               96.502\n",
      "Skew:                           0.010   Prob(JB):                     1.11e-21\n",
      "Kurtosis:                       1.579   Cond. No.                     6.21e+18\n",
      "==============================================================================\n",
      "\n",
      "Notes:\n",
      "[1] Standard Errors assume that the covariance matrix of the errors is correctly specified.\n",
      "[2] The smallest eigenvalue is 3.96e-32. This might indicate that there are\n",
      "strong multicollinearity problems or that the design matrix is singular.\n"
     ]
    }
   ],
   "source": [
    "#dropping all selfemployed\n",
    "df_2016_reg = df_2016.drop(df_2016[df_2016['How many employees does your company or organization have?'] < 1].index)\n",
    "\n",
    "x = df_2016_reg[['How many employees does your company or organization have?', \n",
    "             'Does your employer provide mental health benefits as part of healthcare coverage?',\n",
    "             'Do you know the options for mental health care available under your employer-provided coverage?',\n",
    "             'Has your employer ever formally discussed mental health (for example, as part of a wellness campaign or other official communication)?',\n",
    "             'Does your employer offer resources to learn more about mental health concerns and options for seeking help?',\n",
    "             'Is your anonymity protected if you choose to take advantage of mental health or substance abuse treatment resources provided by your employer?',\n",
    "             'Do you think that discussing a mental health disorder with your employer would have negative consequences?',\n",
    "             'Would you feel comfortable discussing a mental health disorder with your coworkers?',\n",
    "             'Would you feel comfortable discussing a mental health disorder with your direct supervisor(s)?',\n",
    "             'Do you feel that your employer takes mental health as seriously as physical health?',\n",
    "             'Have you heard of or observed negative consequences for co-workers who have been open about mental health issues in your workplace?',\n",
    "             'If you have revealed a mental health issue to a client or business contact, do you believe this has impacted you negatively?',\n",
    "             'If you have revealed a mental health issue to a coworker or employee, do you believe this has impacted you negatively?',\n",
    "             'Do you think that team members/co-workers would view you more negatively if they knew you suffered from a mental health issue?',\n",
    "             'Have you observed or experienced an unsupportive or badly handled response to a mental health issue in your current or previous workplace?',\n",
    "             'What is your age?',\n",
    "             'What is your gender?'\n",
    "             \n",
    "            #  ,'What country do you live in?'\n",
    "            ]]\n",
    "\n",
    "y = df_2016_reg['Do you currently have a mental health disorder?']\n",
    "\n",
    "X = sm.add_constant(x)\n",
    "\n",
    "# this is the non categorical variables way\n",
    "est = sm.OLS(y,X)\n",
    "est2 = est.fit()\n",
    "print(est2.summary())\n",
    "\n",
    "# with categorical variables\n",
    "\n",
    "# import statsmodels.formula.api as smf\n",
    "# est_c  = smf.ols(formula=\"Do you currently have a mental health disorder? ~ C(How many employees does your company or organization have?)\", data=df_2016_reg).fit()\n",
    "\n",
    "\n",
    "# print(est_c.summary())\n"
   ]
  },
  {
   "cell_type": "code",
   "execution_count": 78,
   "metadata": {},
   "outputs": [
    {
     "data": {
      "image/png": "[encoded data removed]",
      "text/plain": [
       "<Figure size 640x480 with 1 Axes>"
      ]
     },
     "metadata": {},
     "output_type": "display_data"
    }
   ],
   "source": [
    "import matplotlib.pyplot as plt\n",
    "\n",
    "df_2016_plot = df_2016_reg \\\n",
    "    .groupby('Do you currently have a mental health disorder?') \\\n",
    "    ['What is your age?'].count() \\\n",
    "    .reset_index()\n",
    "\n",
    "plt.bar(df_2016_plot['Do you currently have a mental health disorder?'], height = df_2016_plot['What is your age?'])\n",
    "plt.show()"
   ]
  },
  {
   "cell_type": "code",
   "execution_count": null,
   "metadata": {},
   "outputs": [],
   "source": [
    "from sklearn.linear_model import LinearRegression\n",
    "from sklearn.model_selection import train_test_split \n",
    "from sklearn.metrics import mean_squared_error, mean_absolute_error \n",
    "\n",
    "X_train, X_test, y_train, y_test = train_test_split(x, y, test_size=0.8, random_state=101) \n",
    "  \n",
    "# creating a regression model \n",
    "model = LinearRegression() \n",
    "  \n",
    "# fitting the model \n",
    "model.fit(X_train, y_train) \n",
    "  \n",
    "# making predictions \n",
    "predictions = model.predict(X_test) \n",
    "  \n",
    "# model evaluation \n",
    "print('mean_squared_error : ', mean_squared_error(y_test, predictions)) \n",
    "print('mean_absolute_error : ', mean_absolute_error(y_test, predictions)) "
   ]
  }
 ],
 "metadata": {
  "kernelspec": {
   "display_name": "Python 3",
   "language": "python",
   "name": "python3"
  },
  "language_info": {
   "codemirror_mode": {
    "name": "ipython",
    "version": 3
   },
   "file_extension": ".py",
   "mimetype": "text/x-python",
   "name": "python",
   "nbconvert_exporter": "python",
   "pygments_lexer": "ipython3",
   "version": "3.11.5"
  }
 },
 "nbformat": 4,
 "nbformat_minor": 2
}

{
 "cells": [
  {
   "cell_type": "code",
   "execution_count": 58,
   "metadata": {},
   "outputs": [],
   "source": [
    "#first jupyter notebook for analysis\n",
    "\n",
    "#todo: \n",
    "#   - gender (and some other variables should be categorical)\n",
    "#   - some graphs\n",
    "\n"
   ]
  },
  {
   "cell_type": "code",
   "execution_count": 59,
   "metadata": {},
   "outputs": [
    {
     "data": {
      "text/html": [
       "<div>\n",
       "<style scoped>\n",
       "    .dataframe tbody tr th:only-of-type {\n",
       "        vertical-align: middle;\n",
       "    }\n",
       "\n",
       "    .dataframe tbody tr th {\n",
       "        vertical-align: top;\n",
       "    }\n",
       "\n",
       "    .dataframe thead th {\n",
       "        text-align: right;\n",
       "    }\n",
       "</style>\n",
       "<table border=\"1\" class=\"dataframe\">\n",
       "  <thead>\n",
       "    <tr style=\"text-align: right;\">\n",
       "      <th></th>\n",
       "      <th>Are you self-employed?</th>\n",
       "      <th>How many employees does your company or organization have?</th>\n",
       "      <th>Is your employer primarily a tech company/organization?</th>\n",
       "      <th>Is your primary role within your company related to tech/IT?</th>\n",
       "      <th>Does your employer provide mental health benefits as part of healthcare coverage?</th>\n",
       "      <th>Do you know the options for mental health care available under your employer-provided coverage?</th>\n",
       "      <th>Has your employer ever formally discussed mental health (for example, as part of a wellness campaign or other official communication)?</th>\n",
       "      <th>Does your employer offer resources to learn more about mental health concerns and options for seeking help?</th>\n",
       "      <th>Is your anonymity protected if you choose to take advantage of mental health or substance abuse treatment resources provided by your employer?</th>\n",
       "      <th>If a mental health issue prompted you to request a medical leave from work, asking for that leave would be:</th>\n",
       "      <th>...</th>\n",
       "      <th>If you have a mental health issue, do you feel that it interferes with your work when being treated effectively?</th>\n",
       "      <th>If you have a mental health issue, do you feel that it interferes with your work when NOT being treated effectively?</th>\n",
       "      <th>What is your age?</th>\n",
       "      <th>What is your gender?</th>\n",
       "      <th>What country do you live in?</th>\n",
       "      <th>What US state or territory do you live in?</th>\n",
       "      <th>What country do you work in?</th>\n",
       "      <th>What US state or territory do you work in?</th>\n",
       "      <th>Which of the following best describes your work position?</th>\n",
       "      <th>Do you work remotely?</th>\n",
       "    </tr>\n",
       "  </thead>\n",
       "  <tbody>\n",
       "    <tr>\n",
       "      <th>0</th>\n",
       "      <td>0</td>\n",
       "      <td>26-100</td>\n",
       "      <td>1.0</td>\n",
       "      <td>NaN</td>\n",
       "      <td>Not eligible for coverage / N/A</td>\n",
       "      <td>NaN</td>\n",
       "      <td>No</td>\n",
       "      <td>No</td>\n",
       "      <td>I don't know</td>\n",
       "      <td>Very easy</td>\n",
       "      <td>...</td>\n",
       "      <td>Not applicable to me</td>\n",
       "      <td>Not applicable to me</td>\n",
       "      <td>39</td>\n",
       "      <td>Male</td>\n",
       "      <td>United Kingdom</td>\n",
       "      <td>NaN</td>\n",
       "      <td>United Kingdom</td>\n",
       "      <td>NaN</td>\n",
       "      <td>Back-end Developer</td>\n",
       "      <td>Sometimes</td>\n",
       "    </tr>\n",
       "    <tr>\n",
       "      <th>1</th>\n",
       "      <td>0</td>\n",
       "      <td>6-25</td>\n",
       "      <td>1.0</td>\n",
       "      <td>NaN</td>\n",
       "      <td>No</td>\n",
       "      <td>Yes</td>\n",
       "      <td>Yes</td>\n",
       "      <td>Yes</td>\n",
       "      <td>Yes</td>\n",
       "      <td>Somewhat easy</td>\n",
       "      <td>...</td>\n",
       "      <td>Rarely</td>\n",
       "      <td>Sometimes</td>\n",
       "      <td>29</td>\n",
       "      <td>male</td>\n",
       "      <td>United States of America</td>\n",
       "      <td>Illinois</td>\n",
       "      <td>United States of America</td>\n",
       "      <td>Illinois</td>\n",
       "      <td>Back-end Developer|Front-end Developer</td>\n",
       "      <td>Never</td>\n",
       "    </tr>\n",
       "    <tr>\n",
       "      <th>2</th>\n",
       "      <td>0</td>\n",
       "      <td>6-25</td>\n",
       "      <td>1.0</td>\n",
       "      <td>NaN</td>\n",
       "      <td>No</td>\n",
       "      <td>NaN</td>\n",
       "      <td>No</td>\n",
       "      <td>No</td>\n",
       "      <td>I don't know</td>\n",
       "      <td>Neither easy nor difficult</td>\n",
       "      <td>...</td>\n",
       "      <td>Not applicable to me</td>\n",
       "      <td>Not applicable to me</td>\n",
       "      <td>38</td>\n",
       "      <td>Male</td>\n",
       "      <td>United Kingdom</td>\n",
       "      <td>NaN</td>\n",
       "      <td>United Kingdom</td>\n",
       "      <td>NaN</td>\n",
       "      <td>Back-end Developer</td>\n",
       "      <td>Always</td>\n",
       "    </tr>\n",
       "    <tr>\n",
       "      <th>3</th>\n",
       "      <td>1</td>\n",
       "      <td>NaN</td>\n",
       "      <td>NaN</td>\n",
       "      <td>NaN</td>\n",
       "      <td>NaN</td>\n",
       "      <td>NaN</td>\n",
       "      <td>NaN</td>\n",
       "      <td>NaN</td>\n",
       "      <td>NaN</td>\n",
       "      <td>NaN</td>\n",
       "      <td>...</td>\n",
       "      <td>Sometimes</td>\n",
       "      <td>Sometimes</td>\n",
       "      <td>43</td>\n",
       "      <td>male</td>\n",
       "      <td>United Kingdom</td>\n",
       "      <td>NaN</td>\n",
       "      <td>United Kingdom</td>\n",
       "      <td>NaN</td>\n",
       "      <td>Supervisor/Team Lead</td>\n",
       "      <td>Sometimes</td>\n",
       "    </tr>\n",
       "    <tr>\n",
       "      <th>4</th>\n",
       "      <td>0</td>\n",
       "      <td>6-25</td>\n",
       "      <td>0.0</td>\n",
       "      <td>1.0</td>\n",
       "      <td>Yes</td>\n",
       "      <td>Yes</td>\n",
       "      <td>No</td>\n",
       "      <td>No</td>\n",
       "      <td>No</td>\n",
       "      <td>Neither easy nor difficult</td>\n",
       "      <td>...</td>\n",
       "      <td>Sometimes</td>\n",
       "      <td>Sometimes</td>\n",
       "      <td>43</td>\n",
       "      <td>Female</td>\n",
       "      <td>United States of America</td>\n",
       "      <td>Illinois</td>\n",
       "      <td>United States of America</td>\n",
       "      <td>Illinois</td>\n",
       "      <td>Executive Leadership|Supervisor/Team Lead|Dev ...</td>\n",
       "      <td>Sometimes</td>\n",
       "    </tr>\n",
       "  </tbody>\n",
       "</table>\n",
       "<p>5 rows × 63 columns</p>\n",
       "</div>"
      ],
      "text/plain": [
       "   Are you self-employed?  \\\n",
       "0                       0   \n",
       "1                       0   \n",
       "2                       0   \n",
       "3                       1   \n",
       "4                       0   \n",
       "\n",
       "  How many employees does your company or organization have?  \\\n",
       "0                                             26-100           \n",
       "1                                               6-25           \n",
       "2                                               6-25           \n",
       "3                                                NaN           \n",
       "4                                               6-25           \n",
       "\n",
       "   Is your employer primarily a tech company/organization?  \\\n",
       "0                                                1.0         \n",
       "1                                                1.0         \n",
       "2                                                1.0         \n",
       "3                                                NaN         \n",
       "4                                                0.0         \n",
       "\n",
       "   Is your primary role within your company related to tech/IT?  \\\n",
       "0                                                NaN              \n",
       "1                                                NaN              \n",
       "2                                                NaN              \n",
       "3                                                NaN              \n",
       "4                                                1.0              \n",
       "\n",
       "  Does your employer provide mental health benefits as part of healthcare coverage?  \\\n",
       "0                    Not eligible for coverage / N/A                                  \n",
       "1                                                 No                                  \n",
       "2                                                 No                                  \n",
       "3                                                NaN                                  \n",
       "4                                                Yes                                  \n",
       "\n",
       "  Do you know the options for mental health care available under your employer-provided coverage?  \\\n",
       "0                                                NaN                                                \n",
       "1                                                Yes                                                \n",
       "2                                                NaN                                                \n",
       "3                                                NaN                                                \n",
       "4                                                Yes                                                \n",
       "\n",
       "  Has your employer ever formally discussed mental health (for example, as part of a wellness campaign or other official communication)?  \\\n",
       "0                                                 No                                                                                       \n",
       "1                                                Yes                                                                                       \n",
       "2                                                 No                                                                                       \n",
       "3                                                NaN                                                                                       \n",
       "4                                                 No                                                                                       \n",
       "\n",
       "  Does your employer offer resources to learn more about mental health concerns and options for seeking help?  \\\n",
       "0                                                 No                                                            \n",
       "1                                                Yes                                                            \n",
       "2                                                 No                                                            \n",
       "3                                                NaN                                                            \n",
       "4                                                 No                                                            \n",
       "\n",
       "  Is your anonymity protected if you choose to take advantage of mental health or substance abuse treatment resources provided by your employer?  \\\n",
       "0                                       I don't know                                                                                               \n",
       "1                                                Yes                                                                                               \n",
       "2                                       I don't know                                                                                               \n",
       "3                                                NaN                                                                                               \n",
       "4                                                 No                                                                                               \n",
       "\n",
       "  If a mental health issue prompted you to request a medical leave from work, asking for that leave would be:  \\\n",
       "0                                          Very easy                                                            \n",
       "1                                      Somewhat easy                                                            \n",
       "2                         Neither easy nor difficult                                                            \n",
       "3                                                NaN                                                            \n",
       "4                         Neither easy nor difficult                                                            \n",
       "\n",
       "   ...  \\\n",
       "0  ...   \n",
       "1  ...   \n",
       "2  ...   \n",
       "3  ...   \n",
       "4  ...   \n",
       "\n",
       "  If you have a mental health issue, do you feel that it interferes with your work when being treated effectively?  \\\n",
       "0                               Not applicable to me                                                                 \n",
       "1                                             Rarely                                                                 \n",
       "2                               Not applicable to me                                                                 \n",
       "3                                          Sometimes                                                                 \n",
       "4                                          Sometimes                                                                 \n",
       "\n",
       "  If you have a mental health issue, do you feel that it interferes with your work when NOT being treated effectively?  \\\n",
       "0                               Not applicable to me                                                                     \n",
       "1                                          Sometimes                                                                     \n",
       "2                               Not applicable to me                                                                     \n",
       "3                                          Sometimes                                                                     \n",
       "4                                          Sometimes                                                                     \n",
       "\n",
       "  What is your age? What is your gender? What country do you live in?  \\\n",
       "0                39                 Male               United Kingdom   \n",
       "1                29                 male     United States of America   \n",
       "2                38                Male                United Kingdom   \n",
       "3                43                 male               United Kingdom   \n",
       "4                43               Female     United States of America   \n",
       "\n",
       "  What US state or territory do you live in?  What country do you work in?  \\\n",
       "0                                        NaN                United Kingdom   \n",
       "1                                   Illinois      United States of America   \n",
       "2                                        NaN                United Kingdom   \n",
       "3                                        NaN                United Kingdom   \n",
       "4                                   Illinois      United States of America   \n",
       "\n",
       "  What US state or territory do you work in?  \\\n",
       "0                                        NaN   \n",
       "1                                   Illinois   \n",
       "2                                        NaN   \n",
       "3                                        NaN   \n",
       "4                                   Illinois   \n",
       "\n",
       "  Which of the following best describes your work position?  \\\n",
       "0                                 Back-end Developer          \n",
       "1             Back-end Developer|Front-end Developer          \n",
       "2                                 Back-end Developer          \n",
       "3                               Supervisor/Team Lead          \n",
       "4  Executive Leadership|Supervisor/Team Lead|Dev ...          \n",
       "\n",
       "  Do you work remotely?  \n",
       "0             Sometimes  \n",
       "1                 Never  \n",
       "2                Always  \n",
       "3             Sometimes  \n",
       "4             Sometimes  \n",
       "\n",
       "[5 rows x 63 columns]"
      ]
     },
     "execution_count": 59,
     "metadata": {},
     "output_type": "execute_result"
    }
   ],
   "source": [
    "\n",
    "import os\n",
    "\n",
    "import pandas as pd\n",
    "df_2016 = pd.read_csv('OSMI_2016.csv')\n",
    "df_2016.head()"
   ]
  },
  {
   "cell_type": "code",
   "execution_count": 60,
   "metadata": {},
   "outputs": [
    {
     "name": "stdout",
     "output_type": "stream",
     "text": [
      "Index(['Are you self-employed?',\n",
      "       'How many employees does your company or organization have?',\n",
      "       'Is your employer primarily a tech company/organization?',\n",
      "       'Is your primary role within your company related to tech/IT?',\n",
      "       'Does your employer provide mental health benefits as part of healthcare coverage?',\n",
      "       'Do you know the options for mental health care available under your employer-provided coverage?',\n",
      "       'Has your employer ever formally discussed mental health (for example, as part of a wellness campaign or other official communication)?',\n",
      "       'Does your employer offer resources to learn more about mental health concerns and options for seeking help?',\n",
      "       'Is your anonymity protected if you choose to take advantage of mental health or substance abuse treatment resources provided by your employer?',\n",
      "       'If a mental health issue prompted you to request a medical leave from work, asking for that leave would be:',\n",
      "       'Do you think that discussing a mental health disorder with your employer would have negative consequences?',\n",
      "       'Do you think that discussing a physical health issue with your employer would have negative consequences?',\n",
      "       'Would you feel comfortable discussing a mental health disorder with your coworkers?',\n",
      "       'Would you feel comfortable discussing a mental health disorder with your direct supervisor(s)?',\n",
      "       'Do you feel that your employer takes mental health as seriously as physical health?',\n",
      "       'Have you heard of or observed negative consequences for co-workers who have been open about mental health issues in your workplace?',\n",
      "       'Do you have medical coverage (private insurance or state-provided) which includes treatment of  mental health issues?',\n",
      "       'Do you know local or online resources to seek help for a mental health disorder?',\n",
      "       'If you have been diagnosed or treated for a mental health disorder, do you ever reveal this to clients or business contacts?',\n",
      "       'If you have revealed a mental health issue to a client or business contact, do you believe this has impacted you negatively?',\n",
      "       'If you have been diagnosed or treated for a mental health disorder, do you ever reveal this to coworkers or employees?',\n",
      "       'If you have revealed a mental health issue to a coworker or employee, do you believe this has impacted you negatively?',\n",
      "       'Do you believe your productivity is ever affected by a mental health issue?',\n",
      "       'If yes, what percentage of your work time (time performing primary or secondary job functions) is affected by a mental health issue?',\n",
      "       'Do you have previous employers?',\n",
      "       'Have your previous employers provided mental health benefits?',\n",
      "       'Were you aware of the options for mental health care provided by your previous employers?',\n",
      "       'Did your previous employers ever formally discuss mental health (as part of a wellness campaign or other official communication)?',\n",
      "       'Did your previous employers provide resources to learn more about mental health issues and how to seek help?',\n",
      "       'Was your anonymity protected if you chose to take advantage of mental health or substance abuse treatment resources with previous employers?',\n",
      "       'Do you think that discussing a mental health disorder with previous employers would have negative consequences?',\n",
      "       'Do you think that discussing a physical health issue with previous employers would have negative consequences?',\n",
      "       'Would you have been willing to discuss a mental health issue with your previous co-workers?',\n",
      "       'Would you have been willing to discuss a mental health issue with your direct supervisor(s)?',\n",
      "       'Did you feel that your previous employers took mental health as seriously as physical health?',\n",
      "       'Did you hear of or observe negative consequences for co-workers with mental health issues in your previous workplaces?',\n",
      "       'Would you be willing to bring up a physical health issue with a potential employer in an interview?',\n",
      "       'Why or why not?',\n",
      "       'Would you bring up a mental health issue with a potential employer in an interview?',\n",
      "       'Why or why not?.1',\n",
      "       'Do you feel that being identified as a person with a mental health issue would hurt your career?',\n",
      "       'Do you think that team members/co-workers would view you more negatively if they knew you suffered from a mental health issue?',\n",
      "       'How willing would you be to share with friends and family that you have a mental illness?',\n",
      "       'Have you observed or experienced an unsupportive or badly handled response to a mental health issue in your current or previous workplace?',\n",
      "       'Have your observations of how another individual who discussed a mental health disorder made you less likely to reveal a mental health issue yourself in your current workplace?',\n",
      "       'Do you have a family history of mental illness?',\n",
      "       'Have you had a mental health disorder in the past?',\n",
      "       'Do you currently have a mental health disorder?',\n",
      "       'If yes, what condition(s) have you been diagnosed with?',\n",
      "       'If maybe, what condition(s) do you believe you have?',\n",
      "       'Have you been diagnosed with a mental health condition by a medical professional?',\n",
      "       'If so, what condition(s) were you diagnosed with?',\n",
      "       'Have you ever sought treatment for a mental health issue from a mental health professional?',\n",
      "       'If you have a mental health issue, do you feel that it interferes with your work when being treated effectively?',\n",
      "       'If you have a mental health issue, do you feel that it interferes with your work when NOT being treated effectively?',\n",
      "       'What is your age?', 'What is your gender?',\n",
      "       'What country do you live in?',\n",
      "       'What US state or territory do you live in?',\n",
      "       'What country do you work in?',\n",
      "       'What US state or territory do you work in?',\n",
      "       'Which of the following best describes your work position?',\n",
      "       'Do you work remotely?'],\n",
      "      dtype='object')\n"
     ]
    }
   ],
   "source": [
    "pd.set_option('display.max_rows', None)\n",
    "\n",
    "print(df_2016.columns) \n",
    "\n",
    "    "
   ]
  },
  {
   "cell_type": "code",
   "execution_count": 61,
   "metadata": {},
   "outputs": [
    {
     "name": "stdout",
     "output_type": "stream",
     "text": [
      "How many employees does your company or organization have?\n",
      "['26-100' '6-25' nan 'More than 1000' '100-500' '500-1000' '1-5']\n",
      "[3 2 0 6 4 5 1]\n"
     ]
    }
   ],
   "source": [
    "# categorizing variables\n",
    "\n",
    "# employees in a company\n",
    "\n",
    "index = 1\n",
    "\n",
    "columnname = df_2016.columns[index]\n",
    "\n",
    "print(df_2016.columns[index])\n",
    "print(df_2016.iloc[:,index].unique())\n",
    "\n",
    "mapping_1 = {'1-5': 1,'6-25': 2,'26-100': 3, '100-500': 4,'500-1000': 5, 'More than 1000': 6}\n",
    "\n",
    "df_2016 = df_2016.replace({columnname: mapping_1})\n",
    "df_2016[columnname] =df_2016[columnname].fillna(0)\n",
    "\n",
    "df_2016[columnname] = df_2016[columnname].astype(int)\n",
    "\n",
    "print(df_2016.iloc[:,index].unique())\n",
    "\n",
    "\n"
   ]
  },
  {
   "cell_type": "code",
   "execution_count": 62,
   "metadata": {},
   "outputs": [
    {
     "name": "stdout",
     "output_type": "stream",
     "text": [
      "Does your employer provide mental health benefits as part of healthcare coverage?\n",
      "['Not eligible for coverage / N/A' 'No' nan 'Yes' \"I don't know\"]\n",
      "[3 1 2]\n"
     ]
    }
   ],
   "source": [
    "# employer health benefits in a company\n",
    "\n",
    "index = 4\n",
    "\n",
    "columnname = df_2016.columns[index]\n",
    "\n",
    "print(df_2016.columns[index])\n",
    "print(df_2016.iloc[:,index].unique())\n",
    "\n",
    "mapping_1 = {'No': 3,'Yes': 1,\"I don't know\": 2, 'Not eligible for coverage / N/A': 3}\n",
    "\n",
    "df_2016 = df_2016.replace({columnname: mapping_1})\n",
    "df_2016[columnname] =df_2016[columnname].fillna(3)\n",
    "\n",
    "df_2016[columnname] = df_2016[columnname].astype(int)\n",
    "\n",
    "print(df_2016.iloc[:,index].unique())\n"
   ]
  },
  {
   "cell_type": "code",
   "execution_count": 63,
   "metadata": {},
   "outputs": [
    {
     "name": "stdout",
     "output_type": "stream",
     "text": [
      "Do you know the options for mental health care available under your employer-provided coverage?\n",
      "[nan 'Yes' 'I am not sure' 'No']\n",
      "[3 1 2]\n"
     ]
    }
   ],
   "source": [
    "# mental health care coverage\n",
    "\n",
    "index = 5\n",
    "\n",
    "columnname = df_2016.columns[index]\n",
    "\n",
    "print(df_2016.columns[index])\n",
    "print(df_2016.iloc[:,index].unique())\n",
    "\n",
    "mapping_1 = {'No': 3,'Yes': 1,\"I am not sure\": 2}\n",
    "\n",
    "df_2016 = df_2016.replace({columnname: mapping_1})\n",
    "df_2016[columnname] =df_2016[columnname].fillna(3)\n",
    "\n",
    "df_2016[columnname] = df_2016[columnname].astype(int)\n",
    "\n",
    "print(df_2016.iloc[:,index].unique())\n",
    "\n"
   ]
  },
  {
   "cell_type": "code",
   "execution_count": 64,
   "metadata": {},
   "outputs": [
    {
     "name": "stdout",
     "output_type": "stream",
     "text": [
      "Has your employer ever formally discussed mental health (for example, as part of a wellness campaign or other official communication)?\n",
      "['No' 'Yes' nan \"I don't know\"]\n",
      "[3 1 2]\n"
     ]
    }
   ],
   "source": [
    "# employer formally discussed mental health\n",
    "\n",
    "index = 6\n",
    "\n",
    "columnname = df_2016.columns[index]\n",
    "\n",
    "print(df_2016.columns[index])\n",
    "print(df_2016.iloc[:,index].unique())\n",
    "\n",
    "mapping_1 = {'No': 3,'Yes': 1,\"I don't know\": 2}\n",
    "\n",
    "df_2016 = df_2016.replace({columnname: mapping_1})\n",
    "df_2016[columnname] =df_2016[columnname].fillna(3)\n",
    "\n",
    "df_2016[columnname] = df_2016[columnname].astype(int)\n",
    "\n",
    "print(df_2016.iloc[:,index].unique())\n"
   ]
  },
  {
   "cell_type": "code",
   "execution_count": 65,
   "metadata": {},
   "outputs": [
    {
     "name": "stdout",
     "output_type": "stream",
     "text": [
      "Does your employer offer resources to learn more about mental health concerns and options for seeking help?\n",
      "['No' 'Yes' nan \"I don't know\"]\n",
      "[3 1 2]\n"
     ]
    }
   ],
   "source": [
    "# employer offer resources to learn about mental health\n",
    "\n",
    "index = 7\n",
    "\n",
    "columnname = df_2016.columns[index]\n",
    "\n",
    "print(df_2016.columns[index])\n",
    "print(df_2016.iloc[:,index].unique())\n",
    "\n",
    "mapping_1 = {'No': 3,'Yes': 1,\"I don't know\": 2}\n",
    "\n",
    "df_2016 = df_2016.replace({columnname: mapping_1})\n",
    "df_2016[columnname] =df_2016[columnname].fillna(3)\n",
    "\n",
    "df_2016[columnname] = df_2016[columnname].astype(int)\n",
    "\n",
    "print(df_2016.iloc[:,index].unique())"
   ]
  },
  {
   "cell_type": "code",
   "execution_count": 66,
   "metadata": {},
   "outputs": [
    {
     "name": "stdout",
     "output_type": "stream",
     "text": [
      "Is your anonymity protected if you choose to take advantage of mental health or substance abuse treatment resources provided by your employer?\n",
      "[\"I don't know\" 'Yes' nan 'No']\n",
      "[2 1 3]\n"
     ]
    }
   ],
   "source": [
    "# anonymity protected\n",
    "\n",
    "index = 8\n",
    "\n",
    "columnname = df_2016.columns[index]\n",
    "\n",
    "print(df_2016.columns[index])\n",
    "print(df_2016.iloc[:,index].unique())\n",
    "\n",
    "mapping_1 = {'No': 3,'Yes': 1,\"I don't know\": 2}\n",
    "\n",
    "df_2016 = df_2016.replace({columnname: mapping_1})\n",
    "df_2016[columnname] =df_2016[columnname].fillna(3)\n",
    "\n",
    "df_2016[columnname] = df_2016[columnname].astype(int)\n",
    "\n",
    "print(df_2016.iloc[:,index].unique())"
   ]
  },
  {
   "cell_type": "code",
   "execution_count": 67,
   "metadata": {},
   "outputs": [
    {
     "name": "stdout",
     "output_type": "stream",
     "text": [
      "If a mental health issue prompted you to request a medical leave from work, asking for that leave would be:\n",
      "['Very easy' 'Somewhat easy' 'Neither easy nor difficult' nan\n",
      " 'Very difficult' 'Somewhat difficult' \"I don't know\"]\n",
      "[1 2 3 0 5 4 6]\n"
     ]
    }
   ],
   "source": [
    "# leave due to mental health\n",
    "\n",
    "index = 9\n",
    "\n",
    "columnname = df_2016.columns[index]\n",
    "\n",
    "print(df_2016.columns[index])\n",
    "print(df_2016.iloc[:,index].unique())\n",
    "\n",
    "mapping_1 = {'Very easy': 1,'Somewhat easy': 2, 'Neither easy nor difficult':3, 'Somewhat difficult':4, 'Very difficult':5, \"I don't know\": 6}\n",
    "\n",
    "df_2016 = df_2016.replace({columnname: mapping_1})\n",
    "df_2016[columnname] =df_2016[columnname].fillna(0)\n",
    "\n",
    "df_2016[columnname] = df_2016[columnname].astype(int)\n",
    "\n",
    "print(df_2016.iloc[:,index].unique())"
   ]
  },
  {
   "cell_type": "code",
   "execution_count": 68,
   "metadata": {},
   "outputs": [
    {
     "name": "stdout",
     "output_type": "stream",
     "text": [
      "Do you think that discussing a mental health disorder with your employer would have negative consequences?\n",
      "['No' 'Maybe' nan 'Yes']\n",
      "[3 2 1]\n"
     ]
    }
   ],
   "source": [
    "# discussing mental health with employeer negative consequences\n",
    "\n",
    "index = 10\n",
    "\n",
    "columnname = df_2016.columns[index]\n",
    "\n",
    "print(df_2016.columns[index])\n",
    "print(df_2016.iloc[:,index].unique())\n",
    "\n",
    "mapping_1 = {'No': 3 , 'Yes': 1 , 'Maybe':2}\n",
    "\n",
    "df_2016 = df_2016.replace({columnname: mapping_1})\n",
    "df_2016[columnname] =df_2016[columnname].fillna(3)\n",
    "\n",
    "df_2016[columnname] = df_2016[columnname].astype(int)\n",
    "\n",
    "print(df_2016.iloc[:,index].unique())"
   ]
  },
  {
   "cell_type": "code",
   "execution_count": 69,
   "metadata": {},
   "outputs": [
    {
     "name": "stdout",
     "output_type": "stream",
     "text": [
      "Do you think that discussing a physical health issue with your employer would have negative consequences?\n",
      "['No' nan 'Maybe' 'Yes']\n",
      "[3 2 1]\n"
     ]
    }
   ],
   "source": [
    "# discussing physical health with employeer negative consequences\n",
    "\n",
    "index = 11\n",
    "\n",
    "columnname = df_2016.columns[index]\n",
    "\n",
    "print(df_2016.columns[index])\n",
    "print(df_2016.iloc[:,index].unique())\n",
    "\n",
    "mapping_1 = {'No': 3 , 'Yes': 1 , 'Maybe':2}\n",
    "\n",
    "df_2016 = df_2016.replace({columnname: mapping_1})\n",
    "df_2016[columnname] =df_2016[columnname].fillna(3)\n",
    "\n",
    "df_2016[columnname] = df_2016[columnname].astype(int)\n",
    "\n",
    "print(df_2016.iloc[:,index].unique())"
   ]
  },
  {
   "cell_type": "code",
   "execution_count": 70,
   "metadata": {},
   "outputs": [
    {
     "name": "stdout",
     "output_type": "stream",
     "text": [
      "Would you feel comfortable discussing a mental health disorder with your coworkers?\n",
      "['Maybe' nan 'Yes' 'No']\n",
      "[2 3 1]\n"
     ]
    }
   ],
   "source": [
    "# discussing mental health with coworker\n",
    "\n",
    "index = 12\n",
    "\n",
    "columnname = df_2016.columns[index]\n",
    "\n",
    "print(df_2016.columns[index])\n",
    "print(df_2016.iloc[:,index].unique())\n",
    "\n",
    "mapping_1 = {'No': 3 , 'Yes': 1 , 'Maybe':2}\n",
    "\n",
    "df_2016 = df_2016.replace({columnname: mapping_1})\n",
    "df_2016[columnname] =df_2016[columnname].fillna(3)\n",
    "\n",
    "df_2016[columnname] = df_2016[columnname].astype(int)\n",
    "\n",
    "print(df_2016.iloc[:,index].unique())"
   ]
  },
  {
   "cell_type": "code",
   "execution_count": 71,
   "metadata": {},
   "outputs": [
    {
     "name": "stdout",
     "output_type": "stream",
     "text": [
      "Would you feel comfortable discussing a mental health disorder with your direct supervisor(s)?\n",
      "['Yes' 'Maybe' nan 'No']\n",
      "[1 2 3]\n"
     ]
    }
   ],
   "source": [
    "# discussing mental health with direct supervisor\n",
    "\n",
    "index = 13\n",
    "\n",
    "columnname = df_2016.columns[index]\n",
    "\n",
    "print(df_2016.columns[index])\n",
    "print(df_2016.iloc[:,index].unique())\n",
    "\n",
    "mapping_1 = {'No': 3 , 'Yes': 1 , 'Maybe':2}\n",
    "\n",
    "df_2016 = df_2016.replace({columnname: mapping_1})\n",
    "df_2016[columnname] =df_2016[columnname].fillna(3)\n",
    "\n",
    "df_2016[columnname] = df_2016[columnname].astype(int)\n",
    "\n",
    "print(df_2016.iloc[:,index].unique())"
   ]
  },
  {
   "cell_type": "code",
   "execution_count": 72,
   "metadata": {},
   "outputs": [
    {
     "name": "stdout",
     "output_type": "stream",
     "text": [
      "Do you feel that your employer takes mental health as seriously as physical health?\n",
      "[\"I don't know\" 'Yes' nan 'No']\n",
      "[2 1 3]\n"
     ]
    }
   ],
   "source": [
    "# employer takes mental health as seriously as physical health\n",
    "\n",
    "index = 14\n",
    "\n",
    "columnname = df_2016.columns[index]\n",
    "\n",
    "print(df_2016.columns[index])\n",
    "print(df_2016.iloc[:,index].unique())\n",
    "\n",
    "mapping_1 = {'No': 3,'Yes': 1,\"I don't know\": 2}\n",
    "\n",
    "df_2016 = df_2016.replace({columnname: mapping_1})\n",
    "df_2016[columnname] =df_2016[columnname].fillna(3)\n",
    "\n",
    "df_2016[columnname] = df_2016[columnname].astype(int)\n",
    "\n",
    "print(df_2016.iloc[:,index].unique())"
   ]
  },
  {
   "cell_type": "code",
   "execution_count": 73,
   "metadata": {},
   "outputs": [
    {
     "name": "stdout",
     "output_type": "stream",
     "text": [
      "Have you heard of or observed negative consequences for co-workers who have been open about mental health issues in your workplace?\n",
      "['No' nan 'Yes']\n",
      "[2 1]\n"
     ]
    }
   ],
   "source": [
    "# negative consequences for coworkers discussing mental health\n",
    "\n",
    "index = 15\n",
    "\n",
    "columnname = df_2016.columns[index]\n",
    "\n",
    "print(df_2016.columns[index])\n",
    "print(df_2016.iloc[:,index].unique())\n",
    "\n",
    "mapping_1 = {'No': 2,'Yes': 1}\n",
    "\n",
    "df_2016 = df_2016.replace({columnname: mapping_1})\n",
    "df_2016[columnname] =df_2016[columnname].fillna(2)\n",
    "\n",
    "df_2016[columnname] = df_2016[columnname].astype(int)\n",
    "\n",
    "print(df_2016.iloc[:,index].unique())"
   ]
  },
  {
   "cell_type": "code",
   "execution_count": 74,
   "metadata": {},
   "outputs": [
    {
     "name": "stdout",
     "output_type": "stream",
     "text": [
      "Do you know local or online resources to seek help for a mental health disorder?\n",
      "[nan 'Yes, I know several' 'I know some' \"No, I don't know any\"]\n",
      "[0 1 2 3]\n"
     ]
    }
   ],
   "source": [
    "# online resources for mental health\n",
    "\n",
    "index = 17\n",
    "\n",
    "columnname = df_2016.columns[index]\n",
    "\n",
    "print(df_2016.columns[index])\n",
    "print(df_2016.iloc[:,index].unique())\n",
    "\n",
    "mapping_1 = {'Yes, I know several': 1,'I know some': 2, \"No, I don't know any\": 3}\n",
    "\n",
    "df_2016 = df_2016.replace({columnname: mapping_1})\n",
    "df_2016[columnname] =df_2016[columnname].fillna(0)\n",
    "\n",
    "df_2016[columnname] = df_2016[columnname].astype(int)\n",
    "\n",
    "print(df_2016.iloc[:,index].unique())"
   ]
  },
  {
   "cell_type": "code",
   "execution_count": 75,
   "metadata": {},
   "outputs": [
    {
     "name": "stdout",
     "output_type": "stream",
     "text": [
      "If you have been diagnosed or treated for a mental health disorder, do you ever reveal this to clients or business contacts?\n",
      "[nan 'Sometimes, if it comes up' \"No, because it doesn't matter\"\n",
      " 'No, because it would impact me negatively' 'Not applicable to me'\n",
      " 'Yes, always']\n",
      "[0 2 3 4 5 1]\n"
     ]
    }
   ],
   "source": [
    "# reveal if mental health has been diagnosed to clients\n",
    "\n",
    "index = 18\n",
    "\n",
    "columnname = df_2016.columns[index]\n",
    "\n",
    "print(df_2016.columns[index])\n",
    "print(df_2016.iloc[:,index].unique())\n",
    "\n",
    "mapping_1 = {'Yes, always': 1,'Sometimes, if it comes up': 2, \"No, because it doesn't matter\": 3, \"No, because it would impact me negatively\": 4, \"Not applicable to me\": 5 }\n",
    "\n",
    "df_2016 = df_2016.replace({columnname: mapping_1})\n",
    "df_2016[columnname] =df_2016[columnname].fillna(0)\n",
    "\n",
    "df_2016[columnname] = df_2016[columnname].astype(int)\n",
    "\n",
    "print(df_2016.iloc[:,index].unique())"
   ]
  },
  {
   "cell_type": "code",
   "execution_count": 76,
   "metadata": {},
   "outputs": [
    {
     "name": "stdout",
     "output_type": "stream",
     "text": [
      "If you have revealed a mental health issue to a client or business contact, do you believe this has impacted you negatively?\n",
      "[nan \"I'm not sure\" 'Yes' 'No']\n",
      "[2 1 3]\n"
     ]
    }
   ],
   "source": [
    "# reveal mental health issue to client, negative impact\n",
    "\n",
    "index = 19\n",
    "\n",
    "columnname = df_2016.columns[index]\n",
    "\n",
    "print(df_2016.columns[index])\n",
    "print(df_2016.iloc[:,index].unique())\n",
    "\n",
    "mapping_1 = {'No': 3,'Yes': 1,\"I'm not sure\": 2}\n",
    "\n",
    "df_2016 = df_2016.replace({columnname: mapping_1})\n",
    "\n",
    "df_2016[columnname] =df_2016[columnname].fillna(3)\n",
    "\n",
    "df_2016[columnname] = df_2016[columnname].astype(int)\n",
    "\n",
    "print(df_2016.iloc[:,index].unique())"
   ]
  },
  {
   "cell_type": "code",
   "execution_count": 77,
   "metadata": {},
   "outputs": [
    {
     "name": "stdout",
     "output_type": "stream",
     "text": [
      "If you have been diagnosed or treated for a mental health disorder, do you ever reveal this to coworkers or employees?\n",
      "[nan 'Sometimes, if it comes up'\n",
      " 'No, because it would impact me negatively' 'Not applicable to me'\n",
      " 'Yes, always' \"No, because it doesn't matter\"]\n",
      "[6 2 4 5 1 3]\n"
     ]
    }
   ],
   "source": [
    "# reveal if mental health has been diagnosed to coworkers\n",
    "\n",
    "index = 20\n",
    "\n",
    "columnname = df_2016.columns[index]\n",
    "\n",
    "print(df_2016.columns[index])\n",
    "print(df_2016.iloc[:,index].unique())\n",
    "\n",
    "mapping_1 = {'Yes, always': 1,'Sometimes, if it comes up': 2, \"No, because it doesn't matter\": 3, \"No, because it would impact me negatively\": 4, \"Not applicable to me\": 5 }\n",
    "\n",
    "df_2016 = df_2016.replace({columnname: mapping_1})\n",
    "df_2016[columnname] =df_2016[columnname].fillna(6)\n",
    "\n",
    "df_2016[columnname] = df_2016[columnname].astype(int)\n",
    "\n",
    "print(df_2016.iloc[:,index].unique())"
   ]
  },
  {
   "cell_type": "code",
   "execution_count": 78,
   "metadata": {},
   "outputs": [
    {
     "name": "stdout",
     "output_type": "stream",
     "text": [
      "If you have revealed a mental health issue to a coworker or employee, do you believe this has impacted you negatively?\n",
      "[nan \"I'm not sure\" 'No' 'Yes' 'Not applicable to me']\n",
      "[2 4 1 3]\n"
     ]
    }
   ],
   "source": [
    "# reveal if mental health has been diagnosed to coworkers negative impact\n",
    "\n",
    "index = 21\n",
    "\n",
    "columnname = df_2016.columns[index]\n",
    "\n",
    "print(df_2016.columns[index])\n",
    "print(df_2016.iloc[:,index].unique())\n",
    "\n",
    "mapping_1 = {'No': 4,'Yes': 1,\"I'm not sure\": 2, \"Not applicable to me\": 3 }\n",
    "\n",
    "df_2016 = df_2016.replace({columnname: mapping_1})\n",
    "\n",
    "df_2016[columnname] =df_2016[columnname].fillna(4)\n",
    "\n",
    "df_2016[columnname] = df_2016[columnname].astype(int)\n",
    "\n",
    "print(df_2016.iloc[:,index].unique())"
   ]
  },
  {
   "cell_type": "code",
   "execution_count": 79,
   "metadata": {},
   "outputs": [
    {
     "name": "stdout",
     "output_type": "stream",
     "text": [
      "Do you believe your productivity is ever affected by a mental health issue?\n",
      "[nan 'Yes' 'Not applicable to me' 'No' 'Unsure']\n",
      "[0 2 4 1 3]\n"
     ]
    }
   ],
   "source": [
    "# productivity affected by mental health\n",
    "\n",
    "index = 22\n",
    "\n",
    "columnname = df_2016.columns[index]\n",
    "\n",
    "print(df_2016.columns[index])\n",
    "print(df_2016.iloc[:,index].unique())\n",
    "\n",
    "mapping_1 = {'No': 1,'Yes': 2,\"Unsure\": 3, \"Not applicable to me\": 4 }\n",
    "\n",
    "df_2016 = df_2016.replace({columnname: mapping_1})\n",
    "df_2016[columnname] =df_2016[columnname].fillna(0)\n",
    "\n",
    "df_2016[columnname] = df_2016[columnname].astype(int)\n",
    "\n",
    "print(df_2016.iloc[:,index].unique())"
   ]
  },
  {
   "cell_type": "code",
   "execution_count": 80,
   "metadata": {},
   "outputs": [
    {
     "name": "stdout",
     "output_type": "stream",
     "text": [
      "If yes, what percentage of your work time (time performing primary or secondary job functions) is affected by a mental health issue?\n",
      "[nan '1-25%' '76-100%' '26-50%' '51-75%']\n",
      "[0 1 4 2 3]\n"
     ]
    }
   ],
   "source": [
    "# if yes, what precentage\n",
    "\n",
    "index = 23\n",
    "\n",
    "columnname = df_2016.columns[index]\n",
    "\n",
    "print(df_2016.columns[index])\n",
    "print(df_2016.iloc[:,index].unique())\n",
    "\n",
    "mapping_1 = {'1-25%': 1,'26-50%': 2,\"51-75%\": 3, \"76-100%\": 4 }\n",
    "\n",
    "df_2016 = df_2016.replace({columnname: mapping_1})\n",
    "df_2016[columnname] =df_2016[columnname].fillna(0)\n",
    "\n",
    "df_2016[columnname] = df_2016[columnname].astype(int)\n",
    "\n",
    "print(df_2016.iloc[:,index].unique())"
   ]
  },
  {
   "cell_type": "code",
   "execution_count": 81,
   "metadata": {},
   "outputs": [
    {
     "name": "stdout",
     "output_type": "stream",
     "text": [
      "Have your previous employers provided mental health benefits?\n",
      "['No, none did' 'Yes, they all did' 'Some did' \"I don't know\" nan]\n",
      "[3 1 2 4 0]\n"
     ]
    }
   ],
   "source": [
    "# previous employer provided mental health benefits\n",
    "\n",
    "index = 25\n",
    "\n",
    "columnname = df_2016.columns[index]\n",
    "\n",
    "print(df_2016.columns[index])\n",
    "print(df_2016.iloc[:,index].unique())\n",
    "\n",
    "mapping_1 = {'Yes, they all did': 1,'Some did': 2,\"No, none did\": 3, \"I don't know\": 4 }\n",
    "\n",
    "df_2016 = df_2016.replace({columnname: mapping_1})\n",
    "df_2016[columnname] =df_2016[columnname].fillna(0)\n",
    "\n",
    "df_2016[columnname] = df_2016[columnname].astype(int)\n",
    "\n",
    "print(df_2016.iloc[:,index].unique())"
   ]
  },
  {
   "cell_type": "code",
   "execution_count": 82,
   "metadata": {},
   "outputs": [
    {
     "name": "stdout",
     "output_type": "stream",
     "text": [
      "Were you aware of the options for mental health care provided by your previous employers?\n",
      "['N/A (not currently aware)' 'I was aware of some'\n",
      " 'Yes, I was aware of all of them' 'No, I only became aware later' nan]\n",
      "[4 2 1 3 0]\n"
     ]
    }
   ],
   "source": [
    "# aware of mental health options at previous employer \n",
    "\n",
    "index = 26\n",
    "\n",
    "columnname = df_2016.columns[index]\n",
    "\n",
    "print(df_2016.columns[index])\n",
    "print(df_2016.iloc[:,index].unique())\n",
    "\n",
    "mapping_1 = {'Yes, I was aware of all of them': 1,'I was aware of some': 2,\"No, I only became aware later\": 3, \"N/A (not currently aware)\": 4 }\n",
    "\n",
    "df_2016 = df_2016.replace({columnname: mapping_1})\n",
    "df_2016[columnname] =df_2016[columnname].fillna(0)\n",
    "\n",
    "df_2016[columnname] = df_2016[columnname].astype(int)\n",
    "\n",
    "print(df_2016.iloc[:,index].unique())"
   ]
  },
  {
   "cell_type": "code",
   "execution_count": 83,
   "metadata": {},
   "outputs": [
    {
     "name": "stdout",
     "output_type": "stream",
     "text": [
      "Did your previous employers ever formally discuss mental health (as part of a wellness campaign or other official communication)?\n",
      "[\"I don't know\" 'None did' 'Some did' nan 'Yes, they all did']\n",
      "[4 3 2 0 1]\n"
     ]
    }
   ],
   "source": [
    "# did your previous employer discuss mental health \n",
    "\n",
    "index = 27\n",
    "\n",
    "columnname = df_2016.columns[index]\n",
    "\n",
    "print(df_2016.columns[index])\n",
    "print(df_2016.iloc[:,index].unique())\n",
    "\n",
    "mapping_1 = {'Yes, they all did': 1,'Some did': 2,\"None did\": 3, \"I don't know\": 4 }\n",
    "\n",
    "df_2016 = df_2016.replace({columnname: mapping_1})\n",
    "df_2016[columnname] =df_2016[columnname].fillna(0)\n",
    "\n",
    "df_2016[columnname] = df_2016[columnname].astype(int)\n",
    "\n",
    "print(df_2016.iloc[:,index].unique())"
   ]
  },
  {
   "cell_type": "code",
   "execution_count": 84,
   "metadata": {},
   "outputs": [
    {
     "name": "stdout",
     "output_type": "stream",
     "text": [
      "Did your previous employers provide resources to learn more about mental health issues and how to seek help?\n",
      "['None did' 'Some did' nan 'Yes, they all did']\n",
      "[3 2 0 1]\n"
     ]
    }
   ],
   "source": [
    "# did your previous employer provide mental health info resources\n",
    "\n",
    "index = 28\n",
    "\n",
    "columnname = df_2016.columns[index]\n",
    "\n",
    "print(df_2016.columns[index])\n",
    "print(df_2016.iloc[:,index].unique())\n",
    "\n",
    "mapping_1 = {'Yes, they all did': 1,'Some did': 2,\"None did\": 3}\n",
    "\n",
    "df_2016 = df_2016.replace({columnname: mapping_1})\n",
    "df_2016[columnname] =df_2016[columnname].fillna(0)\n",
    "\n",
    "df_2016[columnname] = df_2016[columnname].astype(int)\n",
    "\n",
    "print(df_2016.iloc[:,index].unique())"
   ]
  },
  {
   "cell_type": "code",
   "execution_count": 85,
   "metadata": {},
   "outputs": [
    {
     "name": "stdout",
     "output_type": "stream",
     "text": [
      "Was your anonymity protected if you chose to take advantage of mental health or substance abuse treatment resources with previous employers?\n",
      "[\"I don't know\" 'Yes, always' 'Sometimes' 'No' nan]\n",
      "[4 1 2 3 0]\n"
     ]
    }
   ],
   "source": [
    "# did your previous employer protect your anonmity when using resourecs\n",
    "\n",
    "index = 29\n",
    "\n",
    "columnname = df_2016.columns[index]\n",
    "\n",
    "print(df_2016.columns[index])\n",
    "print(df_2016.iloc[:,index].unique())\n",
    "\n",
    "mapping_1 = {'Yes, always': 1,'Sometimes': 2,\"No\": 3, \"I don't know\":4}\n",
    "\n",
    "df_2016 = df_2016.replace({columnname: mapping_1})\n",
    "df_2016[columnname] =df_2016[columnname].fillna(0)\n",
    "\n",
    "df_2016[columnname] = df_2016[columnname].astype(int)\n",
    "\n",
    "print(df_2016.iloc[:,index].unique())"
   ]
  },
  {
   "cell_type": "code",
   "execution_count": 86,
   "metadata": {},
   "outputs": [
    {
     "name": "stdout",
     "output_type": "stream",
     "text": [
      "Do you think that discussing a mental health disorder with previous employers would have negative consequences?\n",
      "['Some of them' 'None of them' \"I don't know\" 'Yes, all of them' nan]\n",
      "[2 3 4 1 0]\n"
     ]
    }
   ],
   "source": [
    "# discussing mental health disorder with previous employer negative consequences\n",
    "\n",
    "index = 30\n",
    "\n",
    "columnname = df_2016.columns[index]\n",
    "\n",
    "print(df_2016.columns[index])\n",
    "print(df_2016.iloc[:,index].unique())\n",
    "\n",
    "mapping_1 = {'Yes, all of them': 1,'Some of them': 2,\"None of them\": 3, \"I don't know\":4}\n",
    "\n",
    "df_2016 = df_2016.replace({columnname: mapping_1})\n",
    "df_2016[columnname] =df_2016[columnname].fillna(0)\n",
    "\n",
    "df_2016[columnname] = df_2016[columnname].astype(int)\n",
    "\n",
    "print(df_2016.iloc[:,index].unique())"
   ]
  },
  {
   "cell_type": "code",
   "execution_count": 87,
   "metadata": {},
   "outputs": [
    {
     "name": "stdout",
     "output_type": "stream",
     "text": [
      "Do you think that discussing a physical health issue with previous employers would have negative consequences?\n",
      "['None of them' 'Some of them' 'Yes, all of them' nan]\n",
      "[3 2 1 0]\n"
     ]
    }
   ],
   "source": [
    "# discussing physical health disorder with previous employer negative consequences\n",
    "\n",
    "index = 31\n",
    "\n",
    "columnname = df_2016.columns[index]\n",
    "\n",
    "print(df_2016.columns[index])\n",
    "print(df_2016.iloc[:,index].unique())\n",
    "\n",
    "mapping_1 = {'Yes, all of them': 1,'Some of them': 2,\"None of them\": 3}\n",
    "\n",
    "df_2016 = df_2016.replace({columnname: mapping_1})\n",
    "df_2016[columnname] =df_2016[columnname].fillna(0)\n",
    "\n",
    "df_2016[columnname] = df_2016[columnname].astype(int)\n",
    "\n",
    "print(df_2016.iloc[:,index].unique())"
   ]
  },
  {
   "cell_type": "code",
   "execution_count": 88,
   "metadata": {},
   "outputs": [
    {
     "name": "stdout",
     "output_type": "stream",
     "text": [
      "Would you have been willing to discuss a mental health issue with your previous co-workers?\n",
      "['Some of my previous employers' 'No, at none of my previous employers'\n",
      " 'Yes, at all of my previous employers' nan]\n",
      "[2 3 1 0]\n"
     ]
    }
   ],
   "source": [
    "# discussing mental health disorder with previous coworkers\n",
    "\n",
    "index = 32\n",
    "\n",
    "columnname = df_2016.columns[index]\n",
    "\n",
    "print(df_2016.columns[index])\n",
    "print(df_2016.iloc[:,index].unique())\n",
    "\n",
    "mapping_1 = {'Yes, at all of my previous employers': 1,'Some of my previous employers': 2,\"No, at none of my previous employers\": 3}\n",
    "\n",
    "df_2016 = df_2016.replace({columnname: mapping_1})\n",
    "df_2016[columnname] =df_2016[columnname].fillna(0)\n",
    "\n",
    "df_2016[columnname] = df_2016[columnname].astype(int)\n",
    "\n",
    "print(df_2016.iloc[:,index].unique())"
   ]
  },
  {
   "cell_type": "code",
   "execution_count": 89,
   "metadata": {},
   "outputs": [
    {
     "name": "stdout",
     "output_type": "stream",
     "text": [
      "Would you have been willing to discuss a mental health issue with your direct supervisor(s)?\n",
      "['Some of my previous employers' \"I don't know\"\n",
      " 'No, at none of my previous employers'\n",
      " 'Yes, at all of my previous employers' nan]\n",
      "[2 4 3 1 0]\n"
     ]
    }
   ],
   "source": [
    "# discussing mental health disorder with direct supervisors\n",
    "\n",
    "index = 33\n",
    "\n",
    "columnname = df_2016.columns[index]\n",
    "\n",
    "print(df_2016.columns[index])\n",
    "print(df_2016.iloc[:,index].unique())\n",
    "\n",
    "mapping_1 = {'Yes, at all of my previous employers': 1,'Some of my previous employers': 2,\"No, at none of my previous employers\": 3, \"I don't know\":4}\n",
    "\n",
    "df_2016 = df_2016.replace({columnname: mapping_1})\n",
    "df_2016[columnname] =df_2016[columnname].fillna(0)\n",
    "\n",
    "df_2016[columnname] = df_2016[columnname].astype(int)\n",
    "\n",
    "print(df_2016.iloc[:,index].unique())"
   ]
  },
  {
   "cell_type": "code",
   "execution_count": 90,
   "metadata": {},
   "outputs": [
    {
     "name": "stdout",
     "output_type": "stream",
     "text": [
      "Did you feel that your previous employers took mental health as seriously as physical health?\n",
      "[\"I don't know\" 'Some did' 'None did' 'Yes, they all did' nan]\n",
      "[4 2 3 1 0]\n"
     ]
    }
   ],
   "source": [
    "# did you feel previous employer take mental health as seriously as physical health\n",
    "\n",
    "index = 34\n",
    "\n",
    "columnname = df_2016.columns[index]\n",
    "\n",
    "print(df_2016.columns[index])\n",
    "print(df_2016.iloc[:,index].unique())\n",
    "\n",
    "mapping_1 = {'Yes, they all did': 1,'Some did': 2,\"None did\": 3, \"I don't know\": 4 }\n",
    "\n",
    "df_2016 = df_2016.replace({columnname: mapping_1})\n",
    "df_2016[columnname] =df_2016[columnname].fillna(0)\n",
    "\n",
    "df_2016[columnname] = df_2016[columnname].astype(int)\n",
    "\n",
    "print(df_2016.iloc[:,index].unique())"
   ]
  },
  {
   "cell_type": "code",
   "execution_count": 91,
   "metadata": {},
   "outputs": [
    {
     "name": "stdout",
     "output_type": "stream",
     "text": [
      "Did you hear of or observe negative consequences for co-workers with mental health issues in your previous workplaces?\n",
      "['None of them' 'Some of them' nan 'Yes, all of them']\n",
      "[3 2 0 1]\n"
     ]
    }
   ],
   "source": [
    "# observe negative consequences for coworkers with mental health at previous employers\n",
    "\n",
    "index = 35\n",
    "\n",
    "columnname = df_2016.columns[index]\n",
    "\n",
    "print(df_2016.columns[index])\n",
    "print(df_2016.iloc[:,index].unique())\n",
    "\n",
    "mapping_1 = {'Yes, all of them': 1,'Some of them': 2,\"None of them\": 3}\n",
    "\n",
    "df_2016 = df_2016.replace({columnname: mapping_1})\n",
    "df_2016[columnname] =df_2016[columnname].fillna(0)\n",
    "\n",
    "df_2016[columnname] = df_2016[columnname].astype(int)\n",
    "\n",
    "print(df_2016.iloc[:,index].unique())"
   ]
  },
  {
   "cell_type": "code",
   "execution_count": 92,
   "metadata": {},
   "outputs": [
    {
     "name": "stdout",
     "output_type": "stream",
     "text": [
      "Would you be willing to bring up a physical health issue with a potential employer in an interview?\n",
      "['Maybe' 'Yes' 'No']\n",
      "[2 1 3]\n"
     ]
    }
   ],
   "source": [
    "# talk about physical health issues with potential employer in an interview\n",
    "\n",
    "index = 36\n",
    "\n",
    "columnname = df_2016.columns[index]\n",
    "\n",
    "print(df_2016.columns[index])\n",
    "print(df_2016.iloc[:,index].unique())\n",
    "\n",
    "mapping_1 = {'No': 3,'Yes': 1,\"Maybe\": 2}\n",
    "\n",
    "df_2016 = df_2016.replace({columnname: mapping_1})\n",
    "df_2016[columnname] =df_2016[columnname].fillna(3)\n",
    "\n",
    "df_2016[columnname] = df_2016[columnname].astype(int)\n",
    "\n",
    "print(df_2016.iloc[:,index].unique())"
   ]
  },
  {
   "cell_type": "code",
   "execution_count": 93,
   "metadata": {},
   "outputs": [
    {
     "name": "stdout",
     "output_type": "stream",
     "text": [
      "Would you bring up a mental health issue with a potential employer in an interview?\n",
      "['Maybe' 'No' 'Yes']\n",
      "[2 3 1]\n"
     ]
    }
   ],
   "source": [
    "# talk about mental health issues with potential employer in an interview\n",
    "\n",
    "index = 38\n",
    "\n",
    "columnname = df_2016.columns[index]\n",
    "\n",
    "print(df_2016.columns[index])\n",
    "print(df_2016.iloc[:,index].unique())\n",
    "\n",
    "mapping_1 = {'No': 3,'Yes': 1,\"Maybe\": 2}\n",
    "\n",
    "df_2016 = df_2016.replace({columnname: mapping_1})\n",
    "df_2016[columnname] =df_2016[columnname].fillna(3)\n",
    "\n",
    "df_2016[columnname] = df_2016[columnname].astype(int)\n",
    "\n",
    "print(df_2016.iloc[:,index].unique())"
   ]
  },
  {
   "cell_type": "code",
   "execution_count": 94,
   "metadata": {},
   "outputs": [
    {
     "name": "stdout",
     "output_type": "stream",
     "text": [
      "Do you think that team members/co-workers would view you more negatively if they knew you suffered from a mental health issue?\n",
      "[\"No, I don't think they would\" 'Maybe' 'Yes, they do'\n",
      " 'Yes, I think they would' 'No, they do not']\n",
      "[4 3 1 2 5]\n"
     ]
    }
   ],
   "source": [
    "# coworkers view if mental health issue\n",
    "\n",
    "index = 41\n",
    "\n",
    "columnname = df_2016.columns[index]\n",
    "\n",
    "print(df_2016.columns[index])\n",
    "print(df_2016.iloc[:,index].unique())\n",
    "\n",
    "mapping_1 = {'Yes, they do': 1,'Yes, I think they would': 2,\"Maybe\": 3, \"No, I don't think they would\": 4, \"No, they do not\": 5 }\n",
    "\n",
    "df_2016 = df_2016.replace({columnname: mapping_1})\n",
    "df_2016[columnname] =df_2016[columnname].fillna(0)\n",
    "\n",
    "df_2016[columnname] = df_2016[columnname].astype(int)\n",
    "\n",
    "print(df_2016.iloc[:,index].unique())"
   ]
  },
  {
   "cell_type": "code",
   "execution_count": 95,
   "metadata": {},
   "outputs": [
    {
     "name": "stdout",
     "output_type": "stream",
     "text": [
      "How willing would you be to share with friends and family that you have a mental illness?\n",
      "['Somewhat open' 'Neutral'\n",
      " 'Not applicable to me (I do not have a mental illness)' 'Very open'\n",
      " 'Not open at all' 'Somewhat not open']\n",
      "[2 3 6 1 5 4]\n"
     ]
    }
   ],
   "source": [
    "# share friends and family mental health issue\n",
    "\n",
    "index = 42\n",
    "\n",
    "columnname = df_2016.columns[index]\n",
    "\n",
    "print(df_2016.columns[index])\n",
    "print(df_2016.iloc[:,index].unique())\n",
    "\n",
    "mapping_1 = {'Very open': 1,'Somewhat open': 2,\"Neutral\": 3, \"Somewhat not open\": 4, \"Not open at all\": 5, \"Not applicable to me (I do not have a mental illness)\":6}\n",
    "\n",
    "df_2016 = df_2016.replace({columnname: mapping_1})\n",
    "df_2016[columnname] =df_2016[columnname].fillna(6)\n",
    "\n",
    "df_2016[columnname] = df_2016[columnname].astype(int)\n",
    "\n",
    "print(df_2016.iloc[:,index].unique())"
   ]
  },
  {
   "cell_type": "code",
   "execution_count": 96,
   "metadata": {},
   "outputs": [
    {
     "name": "stdout",
     "output_type": "stream",
     "text": [
      "Have you observed or experienced an unsupportive or badly handled response to a mental health issue in your current or previous workplace?\n",
      "['No' 'Maybe/Not sure' 'Yes, I experienced' 'Yes, I observed' nan]\n",
      "[4 3 1 2]\n"
     ]
    }
   ],
   "source": [
    "# bad response by employer to mental health issue\n",
    "\n",
    "index = 43\n",
    "\n",
    "columnname = df_2016.columns[index]\n",
    "\n",
    "print(df_2016.columns[index])\n",
    "print(df_2016.iloc[:,index].unique())\n",
    "\n",
    "mapping_1 = {'Yes, I experienced': 1,'Yes, I observed': 2,\"Maybe/Not sure\": 3, \"No\": 4}\n",
    "\n",
    "df_2016 = df_2016.replace({columnname: mapping_1})\n",
    "df_2016[columnname] =df_2016[columnname].fillna(4)\n",
    "\n",
    "df_2016[columnname] = df_2016[columnname].astype(int)\n",
    "\n",
    "print(df_2016.iloc[:,index].unique())"
   ]
  },
  {
   "cell_type": "code",
   "execution_count": 97,
   "metadata": {},
   "outputs": [
    {
     "name": "stdout",
     "output_type": "stream",
     "text": [
      "Have your observations of how another individual who discussed a mental health disorder made you less likely to reveal a mental health issue yourself in your current workplace?\n",
      "[nan 'Yes' 'No' 'Maybe']\n",
      "[0 1 3 2]\n"
     ]
    }
   ],
   "source": [
    "#Have your observations of how another individual who discussed a mental health disorder made you less likely to reveal a mental health issue yourself in your current workplace?\n",
    "\n",
    "index = 44\n",
    "\n",
    "columnname = df_2016.columns[index]\n",
    "\n",
    "print(df_2016.columns[index])\n",
    "print(df_2016.iloc[:,index].unique())\n",
    "\n",
    "mapping_1 = {'Yes': 1, \"Maybe\": 2, \"No\": 3}\n",
    "\n",
    "df_2016 = df_2016.replace({columnname: mapping_1})\n",
    "df_2016[columnname] =df_2016[columnname].fillna(0)\n",
    "\n",
    "df_2016[columnname] = df_2016[columnname].astype(int)\n",
    "\n",
    "print(df_2016.iloc[:,index].unique())"
   ]
  },
  {
   "cell_type": "code",
   "execution_count": 98,
   "metadata": {},
   "outputs": [
    {
     "name": "stdout",
     "output_type": "stream",
     "text": [
      "Do you have a family history of mental illness?\n",
      "['No' 'Yes' \"I don't know\"]\n",
      "[2 1 3]\n"
     ]
    }
   ],
   "source": [
    "# family mental illness\n",
    "\n",
    "index = 45\n",
    "\n",
    "columnname = df_2016.columns[index]\n",
    "\n",
    "print(df_2016.columns[index])\n",
    "print(df_2016.iloc[:,index].unique())\n",
    "\n",
    "mapping_1 = {'Yes': 1, \"No\": 2, \"I don't know\": 3}\n",
    "\n",
    "df_2016 = df_2016.replace({columnname: mapping_1})\n",
    "df_2016[columnname] =df_2016[columnname].fillna(0)\n",
    "\n",
    "df_2016[columnname] = df_2016[columnname].astype(int)\n",
    "\n",
    "print(df_2016.iloc[:,index].unique())"
   ]
  },
  {
   "cell_type": "code",
   "execution_count": 99,
   "metadata": {},
   "outputs": [
    {
     "name": "stdout",
     "output_type": "stream",
     "text": [
      "Have you had a mental health disorder in the past?\n",
      "['Yes' 'Maybe' 'No']\n",
      "[1 2 3]\n"
     ]
    }
   ],
   "source": [
    "# Mental health disorder in the past\n",
    "\n",
    "index = 46\n",
    "\n",
    "columnname = df_2016.columns[index]\n",
    "\n",
    "print(df_2016.columns[index])\n",
    "print(df_2016.iloc[:,index].unique())\n",
    "\n",
    "mapping_1 = {'Yes': 1, \"Maybe\": 2, \"No\": 3}\n",
    "\n",
    "df_2016 = df_2016.replace({columnname: mapping_1})\n",
    "df_2016[columnname] =df_2016[columnname].fillna(0)\n",
    "\n",
    "df_2016[columnname] = df_2016[columnname].astype(int)\n",
    "\n",
    "print(df_2016.iloc[:,index].unique())"
   ]
  },
  {
   "cell_type": "code",
   "execution_count": 100,
   "metadata": {},
   "outputs": [
    {
     "name": "stdout",
     "output_type": "stream",
     "text": [
      "Do you currently have a mental health disorder?\n",
      "['No' 'Yes' 'Maybe']\n",
      "[3 1 2]\n"
     ]
    }
   ],
   "source": [
    "# Mental health disorder currently\n",
    "\n",
    "index = 47\n",
    "\n",
    "columnname = df_2016.columns[index]\n",
    "\n",
    "print(df_2016.columns[index])\n",
    "print(df_2016.iloc[:,index].unique())\n",
    "\n",
    "mapping_1 = {'Yes': 1, \"Maybe\": 2, \"No\": 3}\n",
    "\n",
    "df_2016 = df_2016.replace({columnname: mapping_1})\n",
    "df_2016[columnname] =df_2016[columnname].fillna(0)\n",
    "\n",
    "df_2016[columnname] = df_2016[columnname].astype(int)\n",
    "\n",
    "print(df_2016.iloc[:,index].unique())"
   ]
  },
  {
   "cell_type": "code",
   "execution_count": 101,
   "metadata": {},
   "outputs": [
    {
     "name": "stdout",
     "output_type": "stream",
     "text": [
      "Have you been diagnosed with a mental health condition by a medical professional?\n",
      "['Yes' 'No']\n",
      "[1 2]\n"
     ]
    }
   ],
   "source": [
    "# diagnosed Mental health disorder by medical professional\n",
    "\n",
    "index = 50\n",
    "\n",
    "columnname = df_2016.columns[index]\n",
    "\n",
    "print(df_2016.columns[index])\n",
    "print(df_2016.iloc[:,index].unique())\n",
    "\n",
    "mapping_1 = {'Yes': 1, \"No\": 2}\n",
    "\n",
    "df_2016 = df_2016.replace({columnname: mapping_1})\n",
    "df_2016[columnname] =df_2016[columnname].fillna(0)\n",
    "\n",
    "df_2016[columnname] = df_2016[columnname].astype(int)\n",
    "\n",
    "print(df_2016.iloc[:,index].unique())"
   ]
  },
  {
   "cell_type": "code",
   "execution_count": 102,
   "metadata": {},
   "outputs": [
    {
     "name": "stdout",
     "output_type": "stream",
     "text": [
      "If you have a mental health issue, do you feel that it interferes with your work when being treated effectively?\n",
      "['Not applicable to me' 'Rarely' 'Sometimes' 'Never' 'Often']\n",
      "[5 3 2 4 1]\n"
     ]
    }
   ],
   "source": [
    "# if mental health issue, does it interfer with work when treated effectively\n",
    "\n",
    "index = 53\n",
    "\n",
    "columnname = df_2016.columns[index]\n",
    "\n",
    "print(df_2016.columns[index])\n",
    "print(df_2016.iloc[:,index].unique())\n",
    "\n",
    "mapping_1 = {'Often': 1, \"Sometimes\": 2,'Rarely': 3, \"Never\": 4, \"Not applicable to me\": 5}\n",
    "\n",
    "df_2016 = df_2016.replace({columnname: mapping_1})\n",
    "df_2016[columnname] =df_2016[columnname].fillna(0)\n",
    "\n",
    "df_2016[columnname] = df_2016[columnname].astype(int)\n",
    "\n",
    "print(df_2016.iloc[:,index].unique())"
   ]
  },
  {
   "cell_type": "code",
   "execution_count": 103,
   "metadata": {},
   "outputs": [
    {
     "name": "stdout",
     "output_type": "stream",
     "text": [
      "If you have a mental health issue, do you feel that it interferes with your work when NOT being treated effectively?\n",
      "['Not applicable to me' 'Sometimes' 'Often' 'Rarely' 'Never']\n",
      "[5 2 1 3 4]\n"
     ]
    }
   ],
   "source": [
    "# if mental health issue, does it interfer with work when NOT treated effectively\n",
    "\n",
    "index = 54\n",
    "\n",
    "columnname = df_2016.columns[index]\n",
    "\n",
    "print(df_2016.columns[index])\n",
    "print(df_2016.iloc[:,index].unique())\n",
    "\n",
    "mapping_1 = {'Often': 1, \"Sometimes\": 2,'Rarely': 3, \"Never\": 4, \"Not applicable to me\": 5}\n",
    "\n",
    "df_2016 = df_2016.replace({columnname: mapping_1})\n",
    "df_2016[columnname] =df_2016[columnname].fillna(0)\n",
    "\n",
    "df_2016[columnname] = df_2016[columnname].astype(int)\n",
    "\n",
    "print(df_2016.iloc[:,index].unique())"
   ]
  },
  {
   "cell_type": "code",
   "execution_count": 104,
   "metadata": {},
   "outputs": [
    {
     "name": "stdout",
     "output_type": "stream",
     "text": [
      "What is your gender?\n",
      "['Male' 'male' 'Male ' 'Female' 'M' 'female' 'm' 'I identify as female.'\n",
      " 'female ' 'Bigender' 'non-binary' 'Female assigned at birth ' 'F' 'Woman'\n",
      " 'man' 'fm' 'f' 'Cis female ' 'Transitioned, M2F'\n",
      " 'Genderfluid (born female)' 'Other/Transfeminine'\n",
      " 'Female or Multi-Gender Femme' 'Female ' 'woman' 'female/woman'\n",
      " 'Cis male' 'Male.' 'Androgynous' 'male 9:1 female, roughly' nan\n",
      " 'Male (cis)' 'Other' 'nb masculine' 'Cisgender Female' 'Man'\n",
      " 'Sex is male' 'none of your business' 'genderqueer' 'cis male' 'Human'\n",
      " 'Genderfluid' 'Enby' 'Malr' 'genderqueer woman' 'mtf' 'Queer' 'Agender'\n",
      " 'Dude' 'Fluid'\n",
      " \"I'm a man why didn't you make this a drop down question. You should of asked sex? And I would of answered yes please. Seriously how much text can this take? \"\n",
      " 'mail' 'M|' 'Male/genderqueer' 'fem' 'Nonbinary' 'male ' 'human'\n",
      " 'Female (props for making this a freeform field, though)' ' Female'\n",
      " 'Unicorn' 'Cis Male' 'Male (trans, FtM)' 'Cis-woman' 'Genderqueer'\n",
      " 'cisdude' 'Genderflux demi-girl'\n",
      " 'female-bodied; no feelings about gender' 'cis man' 'AFAB'\n",
      " 'Transgender woman' 'MALE']\n",
      "unique values: 71\n"
     ]
    }
   ],
   "source": [
    "# gender description\n",
    "\n",
    "index = 56\n",
    "\n",
    "columnname = df_2016.columns[index]\n",
    "\n",
    "print(df_2016.columns[index])\n",
    "print(df_2016.iloc[:,index].unique())\n",
    "print('unique values: ' + str(len(df_2016.iloc[:,index].unique())))"
   ]
  },
  {
   "cell_type": "code",
   "execution_count": 105,
   "metadata": {},
   "outputs": [
    {
     "name": "stdout",
     "output_type": "stream",
     "text": [
      "[1 2 3]\n",
      "What is your gender?\n",
      "1    1054\n",
      "2     336\n",
      "3      43\n",
      "Name: count, dtype: int64\n",
      "What is your gender?\n",
      "1    0.735520\n",
      "2    0.234473\n",
      "3    0.030007\n",
      "Name: proportion, dtype: float64\n"
     ]
    }
   ],
   "source": [
    "#gender was a opentext field so we categorized them into three categories: cis male, cis female and others\n",
    "#we took the liberty to correct some formats and categorize to the best of our knowlegde\n",
    "\n",
    "\n",
    "mapping_male = ['Male', 'male', 'Male ', 'M', 'm', 'man', 'Cis male', 'Male.', 'Male (cis)', 'Sex is male', 'cis male', 'Dude', \"I'm a man why didn't you make this a drop down question. You should of asked sex? And I would of answered yes please. Seriously how much text can this take? \", 'male ', 'Cis Male', 'cisdude', 'cis man', 'MALE', 'Man']\n",
    "mapping_female = ['female', 'Female', 'I identify as female.', 'female ', 'Female assigned at birth ', 'F', 'Woman', 'f', 'Cis female ', 'Female ', 'woman', 'female/woman', 'Female (props for making this a freeform field, though)', ' Female', 'Cis-woman', 'Cisgender Female']\n",
    "mapping_other = ['Bigender', 'non-binary', 'fm', 'Transitioned, M2F', 'Genderfluid (born female)', 'Other/Transfeminine', 'Female or Multi-Gender Femme', 'Androgynous', 'male 9:1 female, roughly', 'Other', 'nb masculine', 'none of your business', 'genderqueer', 'Human', 'Genderfluid','Enby', 'Malr', 'genderqueer woman', 'mtf', 'Queer', 'Agender', 'Fluid', 'mail', 'M|', 'Male/genderqueer', 'fem', 'Nonbinary', 'human', 'Unicorn', 'Male (trans, FtM)', 'Genderqueer', 'Genderflux demi-girl', 'female-bodied; no feelings about gender', 'AFAB', 'Transgender woman' ]\n",
    "\n",
    "df_2016 = df_2016.replace(mapping_male, 1)\n",
    "df_2016 = df_2016.replace(mapping_female, 2)\n",
    "df_2016 = df_2016.replace(mapping_other, 3)\n",
    "df_2016[columnname] =df_2016[columnname].fillna(3)\n",
    "\n",
    "df_2016[columnname] = df_2016[columnname].astype(int)\n",
    "\n",
    "print(df_2016.iloc[:,index].unique())\n",
    "print(df_2016[columnname].value_counts())\n",
    "print(df_2016[columnname].value_counts(normalize=True))\n",
    "\n",
    "\n"
   ]
  },
  {
   "cell_type": "code",
   "execution_count": 106,
   "metadata": {},
   "outputs": [
    {
     "name": "stdout",
     "output_type": "stream",
     "text": [
      "What country do you live in?\n",
      "['United Kingdom' 'United States of America' 'Canada' 'Germany'\n",
      " 'Netherlands' 'Czech Republic' 'Lithuania' 'Australia' 'France'\n",
      " 'Venezuela' 'Poland' 'Belgium' 'Brazil' 'Denmark' 'Sweden' 'Russia'\n",
      " 'Spain' 'India' 'Mexico' 'Switzerland' 'Norway' 'Argentina' 'Ireland'\n",
      " 'Italy' 'Finland' 'Colombia' 'Costa Rica' 'Vietnam' 'Bulgaria'\n",
      " 'New Zealand' 'South Africa' 'Slovakia' 'Austria' 'Bangladesh' 'Algeria'\n",
      " 'Pakistan' 'Afghanistan' 'Greece' 'Romania' 3 'Brunei' 'Japan' 'Iran'\n",
      " 'Hungary' 'Israel' 'Ecuador' 'Bosnia and Herzegovina' 'China' 'Chile'\n",
      " 'Guatemala' 'Taiwan' 'Serbia' 'Estonia']\n",
      "[2 1]\n"
     ]
    }
   ],
   "source": [
    "# Which Country currently living in\n",
    "\n",
    "index = 57\n",
    "\n",
    "columnname = df_2016.columns[index]\n",
    "\n",
    "print(df_2016.columns[index])\n",
    "print(df_2016.iloc[:,index].unique())\n",
    "\n",
    "mapping_1 = {'United States of America': 1}\n",
    "\n",
    "df_2016 = df_2016.replace({columnname: mapping_1})\n",
    "\n",
    "#replace all other values which are not United States of America\n",
    "df_2016.loc[df_2016[columnname]!=1, columnname] = 2\n",
    "\n",
    "df_2016[columnname] = df_2016[columnname].astype(int)\n",
    "\n",
    "print(df_2016.iloc[:,index].unique())"
   ]
  },
  {
   "cell_type": "code",
   "execution_count": 107,
   "metadata": {},
   "outputs": [
    {
     "name": "stdout",
     "output_type": "stream",
     "text": [
      "Do you work remotely?\n",
      "['Sometimes' 'Never' 'Always']\n",
      "[2 3 1]\n"
     ]
    }
   ],
   "source": [
    "# How much a person works remotely\n",
    "\n",
    "index = 62\n",
    "\n",
    "columnname = df_2016.columns[index]\n",
    "\n",
    "print(df_2016.columns[index])\n",
    "print(df_2016.iloc[:,index].unique())\n",
    "\n",
    "mapping_1 = {'Always': 1, \"Sometimes\": 2, \"Never\": 3}\n",
    "\n",
    "df_2016 = df_2016.replace({columnname: mapping_1})\n",
    "\n",
    "df_2016[columnname] = df_2016[columnname].astype(int)\n",
    "\n",
    "print(df_2016.iloc[:,index].unique())"
   ]
  },
  {
   "cell_type": "code",
   "execution_count": 108,
   "metadata": {},
   "outputs": [],
   "source": [
    "import matplotlib.pyplot as plt\n",
    "\n"
   ]
  },
  {
   "cell_type": "code",
   "execution_count": 109,
   "metadata": {},
   "outputs": [
    {
     "name": "stdout",
     "output_type": "stream",
     "text": [
      "What country do you live in?\n",
      "[2 1]\n",
      "[2 1]\n",
      "What country do you live in?\n",
      "1    840\n",
      "2    593\n",
      "Name: count, dtype: int64\n",
      "What country do you live in?\n",
      "1    0.586183\n",
      "2    0.413817\n",
      "Name: proportion, dtype: float64\n"
     ]
    }
   ],
   "source": [
    "# How much a person works remotely\n",
    "\n",
    "index = 57\n",
    "\n",
    "columnname = df_2016.columns[index]\n",
    "\n",
    "print(df_2016.columns[index])\n",
    "print(df_2016.iloc[:,index].unique())\n",
    "\n",
    "print(df_2016.iloc[:,index].unique())\n",
    "print(df_2016[columnname].value_counts())\n",
    "print(df_2016[columnname].value_counts(normalize=True))"
   ]
  },
  {
   "cell_type": "code",
   "execution_count": 110,
   "metadata": {},
   "outputs": [],
   "source": [
    "\n",
    "import numpy as np\n",
    "\n",
    "import statsmodels.api as sm\n",
    "\n"
   ]
  },
  {
   "cell_type": "code",
   "execution_count": 111,
   "metadata": {},
   "outputs": [
    {
     "name": "stdout",
     "output_type": "stream",
     "text": [
      "Are you self-employed?                                                                                                                                                                int64\n",
      "How many employees does your company or organization have?                                                                                                                            int32\n",
      "Is your employer primarily a tech company/organization?                                                                                                                             float64\n",
      "Is your primary role within your company related to tech/IT?                                                                                                                        float64\n",
      "Does your employer provide mental health benefits as part of healthcare coverage?                                                                                                     int32\n",
      "Do you know the options for mental health care available under your employer-provided coverage?                                                                                       int32\n",
      "Has your employer ever formally discussed mental health (for example, as part of a wellness campaign or other official communication)?                                                int32\n",
      "Does your employer offer resources to learn more about mental health concerns and options for seeking help?                                                                           int32\n",
      "Is your anonymity protected if you choose to take advantage of mental health or substance abuse treatment resources provided by your employer?                                        int32\n",
      "If a mental health issue prompted you to request a medical leave from work, asking for that leave would be:                                                                           int32\n",
      "Do you think that discussing a mental health disorder with your employer would have negative consequences?                                                                            int32\n",
      "Do you think that discussing a physical health issue with your employer would have negative consequences?                                                                             int32\n",
      "Would you feel comfortable discussing a mental health disorder with your coworkers?                                                                                                   int32\n",
      "Would you feel comfortable discussing a mental health disorder with your direct supervisor(s)?                                                                                        int32\n",
      "Do you feel that your employer takes mental health as seriously as physical health?                                                                                                   int32\n",
      "Have you heard of or observed negative consequences for co-workers who have been open about mental health issues in your workplace?                                                   int32\n",
      "Do you have medical coverage (private insurance or state-provided) which includes treatment of  mental health issues?                                                               float64\n",
      "Do you know local or online resources to seek help for a mental health disorder?                                                                                                      int32\n",
      "If you have been diagnosed or treated for a mental health disorder, do you ever reveal this to clients or business contacts?                                                          int32\n",
      "If you have revealed a mental health issue to a client or business contact, do you believe this has impacted you negatively?                                                          int32\n",
      "If you have been diagnosed or treated for a mental health disorder, do you ever reveal this to coworkers or employees?                                                                int32\n",
      "If you have revealed a mental health issue to a coworker or employee, do you believe this has impacted you negatively?                                                                int32\n",
      "Do you believe your productivity is ever affected by a mental health issue?                                                                                                           int32\n",
      "If yes, what percentage of your work time (time performing primary or secondary job functions) is affected by a mental health issue?                                                  int32\n",
      "Do you have previous employers?                                                                                                                                                       int64\n",
      "Have your previous employers provided mental health benefits?                                                                                                                         int32\n",
      "Were you aware of the options for mental health care provided by your previous employers?                                                                                             int32\n",
      "Did your previous employers ever formally discuss mental health (as part of a wellness campaign or other official communication)?                                                     int32\n",
      "Did your previous employers provide resources to learn more about mental health issues and how to seek help?                                                                          int32\n",
      "Was your anonymity protected if you chose to take advantage of mental health or substance abuse treatment resources with previous employers?                                          int32\n",
      "Do you think that discussing a mental health disorder with previous employers would have negative consequences?                                                                       int32\n",
      "Do you think that discussing a physical health issue with previous employers would have negative consequences?                                                                        int32\n",
      "Would you have been willing to discuss a mental health issue with your previous co-workers?                                                                                           int32\n",
      "Would you have been willing to discuss a mental health issue with your direct supervisor(s)?                                                                                          int32\n",
      "Did you feel that your previous employers took mental health as seriously as physical health?                                                                                         int32\n",
      "Did you hear of or observe negative consequences for co-workers with mental health issues in your previous workplaces?                                                                int32\n",
      "Would you be willing to bring up a physical health issue with a potential employer in an interview?                                                                                   int32\n",
      "Why or why not?                                                                                                                                                                      object\n",
      "Would you bring up a mental health issue with a potential employer in an interview?                                                                                                   int32\n",
      "Why or why not?.1                                                                                                                                                                    object\n",
      "Do you feel that being identified as a person with a mental health issue would hurt your career?                                                                                     object\n",
      "Do you think that team members/co-workers would view you more negatively if they knew you suffered from a mental health issue?                                                        int32\n",
      "How willing would you be to share with friends and family that you have a mental illness?                                                                                             int32\n",
      "Have you observed or experienced an unsupportive or badly handled response to a mental health issue in your current or previous workplace?                                            int32\n",
      "Have your observations of how another individual who discussed a mental health disorder made you less likely to reveal a mental health issue yourself in your current workplace?      int32\n",
      "Do you have a family history of mental illness?                                                                                                                                       int32\n",
      "Have you had a mental health disorder in the past?                                                                                                                                    int32\n",
      "Do you currently have a mental health disorder?                                                                                                                                       int32\n",
      "If yes, what condition(s) have you been diagnosed with?                                                                                                                              object\n",
      "If maybe, what condition(s) do you believe you have?                                                                                                                                 object\n",
      "Have you been diagnosed with a mental health condition by a medical professional?                                                                                                     int32\n",
      "If so, what condition(s) were you diagnosed with?                                                                                                                                    object\n",
      "Have you ever sought treatment for a mental health issue from a mental health professional?                                                                                           int64\n",
      "If you have a mental health issue, do you feel that it interferes with your work when being treated effectively?                                                                      int32\n",
      "If you have a mental health issue, do you feel that it interferes with your work when NOT being treated effectively?                                                                  int32\n",
      "What is your age?                                                                                                                                                                     int64\n",
      "What is your gender?                                                                                                                                                                  int32\n",
      "What country do you live in?                                                                                                                                                          int32\n",
      "What US state or territory do you live in?                                                                                                                                           object\n",
      "What country do you work in?                                                                                                                                                         object\n",
      "What US state or territory do you work in?                                                                                                                                           object\n",
      "Which of the following best describes your work position?                                                                                                                            object\n",
      "Do you work remotely?                                                                                                                                                                 int32\n",
      "dtype: object\n"
     ]
    }
   ],
   "source": [
    "print(df_2016.dtypes)"
   ]
  },
  {
   "cell_type": "code",
   "execution_count": 122,
   "metadata": {},
   "outputs": [
    {
     "name": "stdout",
     "output_type": "stream",
     "text": [
      "                                           OLS Regression Results                                          \n",
      "===========================================================================================================\n",
      "Dep. Variable:     Do you currently have a mental health disorder?   R-squared:                       0.175\n",
      "Model:                                                         OLS   Adj. R-squared:                  0.162\n",
      "Method:                                              Least Squares   F-statistic:                     14.05\n",
      "Date:                                             Tue, 05 Dec 2023   Prob (F-statistic):           6.47e-37\n",
      "Time:                                                     12:30:41   Log-Likelihood:                -1372.4\n",
      "No. Observations:                                             1146   AIC:                             2781.\n",
      "Df Residuals:                                                 1128   BIC:                             2872.\n",
      "Df Model:                                                       17                                         \n",
      "Covariance Type:                                         nonrobust                                         \n",
      "==================================================================================================================================================================================================================\n",
      "                                                                                                                                                     coef    std err          t      P>|t|      [0.025      0.975]\n",
      "------------------------------------------------------------------------------------------------------------------------------------------------------------------------------------------------------------------\n",
      "const                                                                                                                                              1.3836      0.320      4.325      0.000       0.756       2.011\n",
      "How many employees does your company or organization have?                                                                                        -0.0030      0.018     -0.170      0.865      -0.038       0.032\n",
      "Does your employer provide mental health benefits as part of healthcare coverage?                                                                 -0.0177      0.039     -0.455      0.649      -0.094       0.059\n",
      "Do you know the options for mental health care available under your employer-provided coverage?                                                    0.1944      0.035      5.591      0.000       0.126       0.263\n",
      "Has your employer ever formally discussed mental health (for example, as part of a wellness campaign or other official communication)?            -0.0360      0.035     -1.020      0.308      -0.105       0.033\n",
      "Does your employer offer resources to learn more about mental health concerns and options for seeking help?                                       -0.0349      0.037     -0.945      0.345      -0.107       0.038\n",
      "Is your anonymity protected if you choose to take advantage of mental health or substance abuse treatment resources provided by your employer?     0.0174      0.048      0.365      0.715      -0.076       0.111\n",
      "Do you think that discussing a mental health disorder with your employer would have negative consequences?                                         0.0735      0.045      1.621      0.105      -0.015       0.162\n",
      "Would you feel comfortable discussing a mental health disorder with your coworkers?                                                               -0.0220      0.042     -0.520      0.603      -0.105       0.061\n",
      "Would you feel comfortable discussing a mental health disorder with your direct supervisor(s)?                                                    -0.0077      0.042     -0.183      0.855      -0.090       0.074\n",
      "Do you feel that your employer takes mental health as seriously as physical health?                                                               -0.0563      0.039     -1.434      0.152      -0.133       0.021\n",
      "Have you heard of or observed negative consequences for co-workers who have been open about mental health issues in your workplace?               -0.1041      0.091     -1.139      0.255      -0.283       0.075\n",
      "Do you think that team members/co-workers would view you more negatively if they knew you suffered from a mental health issue?                    -0.0884      0.033     -2.701      0.007      -0.153      -0.024\n",
      "Have you observed or experienced an unsupportive or badly handled response to a mental health issue in your current or previous workplace?         0.2204      0.025      8.742      0.000       0.171       0.270\n",
      "What is your age?                                                                                                                                  0.0040      0.002      1.902      0.057      -0.000       0.008\n",
      "What is your gender?                                                                                                                              -0.2041      0.047     -4.300      0.000      -0.297      -0.111\n",
      "What country do you live in?                                                                                                                       0.2631      0.056      4.672      0.000       0.153       0.374\n",
      "Do you work remotely?                                                                                                                             -0.0318      0.037     -0.864      0.388      -0.104       0.040\n",
      "==============================================================================\n",
      "Omnibus:                      902.482   Durbin-Watson:                   2.002\n",
      "Prob(Omnibus):                  0.000   Jarque-Bera (JB):               70.082\n",
      "Skew:                          -0.059   Prob(JB):                     6.05e-16\n",
      "Kurtosis:                       1.794   Cond. No.                         499.\n",
      "==============================================================================\n",
      "\n",
      "Notes:\n",
      "[1] Standard Errors assume that the covariance matrix of the errors is correctly specified.\n"
     ]
    }
   ],
   "source": [
    "#dropping all selfemployed\n",
    "df_2016_reg = df_2016.drop(df_2016[df_2016['How many employees does your company or organization have?'] < 1].index)\n",
    "\n",
    "x = df_2016_reg[['How many employees does your company or organization have?', \n",
    "             'Does your employer provide mental health benefits as part of healthcare coverage?',\n",
    "             'Do you know the options for mental health care available under your employer-provided coverage?',\n",
    "             'Has your employer ever formally discussed mental health (for example, as part of a wellness campaign or other official communication)?',\n",
    "             'Does your employer offer resources to learn more about mental health concerns and options for seeking help?',\n",
    "             'Is your anonymity protected if you choose to take advantage of mental health or substance abuse treatment resources provided by your employer?',\n",
    "             'Do you think that discussing a mental health disorder with your employer would have negative consequences?',\n",
    "             'Would you feel comfortable discussing a mental health disorder with your coworkers?',\n",
    "             'Would you feel comfortable discussing a mental health disorder with your direct supervisor(s)?',\n",
    "             'Do you feel that your employer takes mental health as seriously as physical health?',\n",
    "             'Have you heard of or observed negative consequences for co-workers who have been open about mental health issues in your workplace?',\n",
    "             #the following two are only for selfemployed which we drop at the beginning\n",
    "            #  'If you have revealed a mental health issue to a client or business contact, do you believe this has impacted you negatively?',\n",
    "            #  'If you have revealed a mental health issue to a coworker or employee, do you believe this has impacted you negatively?',\n",
    "             'Do you think that team members/co-workers would view you more negatively if they knew you suffered from a mental health issue?',\n",
    "             'Have you observed or experienced an unsupportive or badly handled response to a mental health issue in your current or previous workplace?',\n",
    "             'What is your age?',\n",
    "             'What is your gender?',\n",
    "             'What country do you live in?',\n",
    "             'Do you work remotely?'\n",
    "            ]]\n",
    "\n",
    "y = df_2016_reg['Do you currently have a mental health disorder?']\n",
    "\n",
    "\n",
    "X = sm.add_constant(x)\n",
    "\n",
    "# this is the non categorical variables way\n",
    "est = sm.OLS(y,X)\n",
    "est2 = est.fit()\n",
    "print(est2.summary())\n",
    "\n",
    "# with categorical variables\n",
    "\n",
    "# import statsmodels.formula.api as smf\n",
    "# est_c  = smf.ols(formula=\"Do you currently have a mental health disorder? ~ C(How many employees does your company or organization have?)\", data=df_2016_reg).fit()\n",
    "\n",
    "\n",
    "# print(est_c.summary())\n"
   ]
  },
  {
   "cell_type": "code",
   "execution_count": 123,
   "metadata": {},
   "outputs": [
    {
     "data": {
      "image/png": "[encoded data removed]",
      "text/plain": [
       "<Figure size 640x480 with 1 Axes>"
      ]
     },
     "metadata": {},
     "output_type": "display_data"
    }
   ],
   "source": [
    "import matplotlib.pyplot as plt\n",
    "\n",
    "df_2016_plot = df_2016_reg \\\n",
    "    .groupby('Do you currently have a mental health disorder?') \\\n",
    "    ['What is your age?'].count() \\\n",
    "    .reset_index()\n",
    "\n",
    "plt.bar(df_2016_plot['Do you currently have a mental health disorder?'], height = df_2016_plot['What is your age?'])\n",
    "plt.show()"
   ]
  },
  {
   "cell_type": "code",
   "execution_count": 131,
   "metadata": {},
   "outputs": [
    {
     "name": "stdout",
     "output_type": "stream",
     "text": [
      "                                           OLS Regression Results                                          \n",
      "===========================================================================================================\n",
      "Dep. Variable:     Do you currently have a mental health disorder?   R-squared:                       0.170\n",
      "Model:                                                         OLS   Adj. R-squared:                  0.164\n",
      "Method:                                              Least Squares   F-statistic:                     29.07\n",
      "Date:                                             Tue, 05 Dec 2023   Prob (F-statistic):           1.74e-41\n",
      "Time:                                                     12:36:33   Log-Likelihood:                -1375.8\n",
      "No. Observations:                                             1146   AIC:                             2770.\n",
      "Df Residuals:                                                 1137   BIC:                             2815.\n",
      "Df Model:                                                        8                                         \n",
      "Covariance Type:                                         nonrobust                                         \n",
      "==============================================================================================================================================================================================================\n",
      "                                                                                                                                                 coef    std err          t      P>|t|      [0.025      0.975]\n",
      "--------------------------------------------------------------------------------------------------------------------------------------------------------------------------------------------------------------\n",
      "const                                                                                                                                          0.9568      0.216      4.426      0.000       0.533       1.381\n",
      "Do you know the options for mental health care available under your employer-provided coverage?                                                0.1743      0.031      5.685      0.000       0.114       0.234\n",
      "Do you think that discussing a mental health disorder with your employer would have negative consequences?                                     0.0833      0.042      2.000      0.046       0.002       0.165\n",
      "Do you feel that your employer takes mental health as seriously as physical health?                                                           -0.0759      0.036     -2.082      0.038      -0.148      -0.004\n",
      "Do you think that team members/co-workers would view you more negatively if they knew you suffered from a mental health issue?                -0.0798      0.031     -2.550      0.011      -0.141      -0.018\n",
      "Have you observed or experienced an unsupportive or badly handled response to a mental health issue in your current or previous workplace?     0.2069      0.024      8.543      0.000       0.159       0.254\n",
      "What is your age?                                                                                                                              0.0045      0.002      2.207      0.028       0.001       0.009\n",
      "What is your gender?                                                                                                                          -0.2024      0.047     -4.275      0.000      -0.295      -0.109\n",
      "What country do you live in?                                                                                                                   0.2452      0.052      4.755      0.000       0.144       0.346\n",
      "==============================================================================\n",
      "Omnibus:                      992.042   Durbin-Watson:                   2.010\n",
      "Prob(Omnibus):                  0.000   Jarque-Bera (JB):               71.093\n",
      "Skew:                          -0.045   Prob(JB):                     3.65e-16\n",
      "Kurtosis:                       1.783   Cond. No.                         333.\n",
      "==============================================================================\n",
      "\n",
      "Notes:\n",
      "[1] Standard Errors assume that the covariance matrix of the errors is correctly specified.\n"
     ]
    }
   ],
   "source": [
    "#regression with only the p<0.05 significant values\n",
    "\n",
    "df_2016_reg2 = df_2016_reg\n",
    "\n",
    "x2 = df_2016_reg2[[\n",
    "\n",
    "             'Do you know the options for mental health care available under your employer-provided coverage?',\n",
    "           \n",
    "\n",
    "             'Do you think that discussing a mental health disorder with your employer would have negative consequences?',\n",
    "\n",
    "             'Do you feel that your employer takes mental health as seriously as physical health?',\n",
    "             \n",
    "             'Do you think that team members/co-workers would view you more negatively if they knew you suffered from a mental health issue?',\n",
    "             'Have you observed or experienced an unsupportive or badly handled response to a mental health issue in your current or previous workplace?',\n",
    "             'What is your age?',\n",
    "             'What is your gender?',\n",
    "             'What country do you live in?',\n",
    "\n",
    "            ]]\n",
    "\n",
    "y2 = df_2016_reg2['Do you currently have a mental health disorder?']\n",
    "\n",
    "\n",
    "X2 = sm.add_constant(x2)\n",
    "\n",
    "# this is the non categorical variables way\n",
    "est_2 = sm.OLS(y2,X2)\n",
    "est2_2 = est_2.fit()\n",
    "print(est2_2.summary())\n",
    "\n",
    "# with categorical variables\n",
    "\n",
    "# import statsmodels.formula.api as smf\n",
    "# est_c  = smf.ols(formula=\"Do you currently have a mental health disorder? ~ C(How many employees does your company or organization have?)\", data=df_2016_reg).fit()\n",
    "\n",
    "\n",
    "# print(est_c.summary())"
   ]
  },
  {
   "cell_type": "code",
   "execution_count": 126,
   "metadata": {},
   "outputs": [
    {
     "name": "stdout",
     "output_type": "stream",
     "text": [
      "mean_squared_error :  0.667813776170698\n",
      "mean_absolute_error :  0.7051458701511142\n"
     ]
    }
   ],
   "source": [
    "from sklearn.linear_model import LinearRegression\n",
    "from sklearn.model_selection import train_test_split \n",
    "from sklearn.metrics import mean_squared_error, mean_absolute_error \n",
    "\n",
    "X_train, X_test, y_train, y_test = train_test_split(x, y, test_size=0.8, random_state=101) \n",
    "  \n",
    "# creating a regression model \n",
    "model = LinearRegression() \n",
    "  \n",
    "# fitting the model \n",
    "model.fit(X_train, y_train) \n",
    "  \n",
    "# making predictions \n",
    "predictions = model.predict(X_test) \n",
    "  \n",
    "# model evaluation \n",
    "print('mean_squared_error : ', mean_squared_error(y_test, predictions)) \n",
    "print('mean_absolute_error : ', mean_absolute_error(y_test, predictions)) "
   ]
  }
 ],
 "metadata": {
  "kernelspec": {
   "display_name": "Python 3",
   "language": "python",
   "name": "python3"
  },
  "language_info": {
   "codemirror_mode": {
    "name": "ipython",
    "version": 3
   },
   "file_extension": ".py",
   "mimetype": "text/x-python",
   "name": "python",
   "nbconvert_exporter": "python",
   "pygments_lexer": "ipython3",
   "version": "3.11.5"
  }
 },
 "nbformat": 4,
 "nbformat_minor": 2
}
